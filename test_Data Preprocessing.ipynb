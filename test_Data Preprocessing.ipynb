{
 "cells": [
  {
   "cell_type": "markdown",
   "id": "c7b3cf90-b978-4ac8-9b90-823441c79d1c",
   "metadata": {
    "id": "0291cd5b"
   },
   "source": [
    "# Code similarity AI"
   ]
  },
  {
   "cell_type": "code",
   "execution_count": null,
   "id": "92e0a9c0-5c54-4624-b521-46fdc9d716d1",
   "metadata": {
    "id": "Gv7KU-TLhyaa",
    "tags": []
   },
   "outputs": [],
   "source": [
    "from google.colab import drive\n",
    "drive.mount('/content/drive')"
   ]
  },
  {
   "cell_type": "markdown",
   "id": "b0df97e7-bf6e-4701-b487-451cfc0df7d6",
   "metadata": {
    "id": "371f7a07"
   },
   "source": [
    "# 테스트 파일 전처리"
   ]
  },
  {
   "cell_type": "code",
   "execution_count": null,
   "id": "c1157bc5-75c1-4415-9a80-b9899cb473cd",
   "metadata": {
    "ExecuteTime": {
     "end_time": "2022-06-02T10:38:31.602573Z",
     "start_time": "2022-06-02T10:38:29.025713Z"
    },
    "id": "e5d5905f"
   },
   "outputs": [],
   "source": [
    "test_df = pd.read_csv('./open/test.csv', encoding='utf-8')"
   ]
  },
  {
   "cell_type": "code",
   "execution_count": null,
   "id": "cd804080-4d51-45a8-8ee0-e4d5ec4efbaa",
   "metadata": {
    "ExecuteTime": {
     "end_time": "2022-06-02T10:38:31.649553Z",
     "start_time": "2022-06-02T10:38:31.604575Z"
    },
    "id": "fc04967b"
   },
   "outputs": [],
   "source": [
    "result_df = pd.DataFrame(columns = test_df.columns)\n",
    "result_df['pair_id'] = test_df['pair_id'].copy()\n",
    "result_df"
   ]
  },
  {
   "cell_type": "code",
   "execution_count": null,
   "id": "d3034c3b-875e-4238-a74b-3958c248e887",
   "metadata": {
    "ExecuteTime": {
     "end_time": "2022-06-02T10:38:53.013599Z",
     "start_time": "2022-06-02T10:38:31.652549Z"
    },
    "id": "ee1d2a58"
   },
   "outputs": [],
   "source": [
    "code_list = []\n",
    "\n",
    "for i in tqdm(range(len(test_df))) :\n",
    "    code_str = test_df['code1'][i].split('\\n')\n",
    "    py_code = []\n",
    "    long_annotation = 0\n",
    "    long_str = 0\n",
    "    \n",
    "    for line in code_str :                                     \n",
    "        line = line.rstrip().lstrip()                           \n",
    "                    \n",
    "        # 만약 한 줄 주석으로 시작하면 새로 반복\n",
    "        if line.startswith('#') :\n",
    "            continue\n",
    "        elif line.count('\"\"\"') == 0 and line.startswith('\\\"') and line[1:].endswith('\\\"') : # \"문자열\"\n",
    "            continue  \n",
    "        elif line.count(\"'''\") == 0 and line.startswith(\"\\'\") and line[1:].endswith(\"\\'\") :  # '문자열'\n",
    "            continue\n",
    "         \n",
    "        \n",
    "        # \"\"\"를 찾았을 때\n",
    "        if line.count('\"\"\"') >= 1 : \n",
    "            if line.count('\"\"\"') % 2 == 0 and line.startswith('\"\"\"') and line[3:].endswith('\"\"\"') :\n",
    "                continue\n",
    "            elif line.count(\"'''\") % 2 == 0 and line.startswith(\"'''\") and line[3:].endswith(\"'''\") :\n",
    "                continue  \n",
    "    \n",
    "        if line.count('\"\"\"') % 2 != 0 and long_annotation == 0 and long_str == 0 : \n",
    "            if line.startswith('\"\"\"') :         \n",
    "                long_annotation = 1                          \n",
    "                continue\n",
    "            else : \n",
    "                long_str = 1\n",
    "        elif line.count('\"\"\"') % 2 != 0 and long_annotation == 1 and long_str == 0 :\n",
    "            long_annotation = 0\n",
    "            continue    \n",
    "        elif line.count('\"\"\"') % 2 != 0 and long_annotation == 0 and long_str == 1 :\n",
    "            long_str = 0\n",
    "                    \n",
    "        # '''를 찾았을 때\n",
    "        if line.count(\"'''\") >= 1 : \n",
    "            if line.count('\"\"\"') % 2 == 0 and line.startswith('\"\"\"') and line[3:].endswith('\"\"\"') :\n",
    "                continue\n",
    "            elif line.count(\"'''\") % 2 == 0 and line.startswith(\"'''\") and line[3:].endswith(\"'''\") :\n",
    "                continue  \n",
    "    \n",
    "        if line.count(\"'''\") % 2 != 0 and long_annotation == 0 and long_str == 0 : \n",
    "            if line.startswith(\"'''\") :         \n",
    "                long_annotation = 1                          \n",
    "                continue\n",
    "            else : \n",
    "                long_str = 1\n",
    "        elif line.count(\"'''\") % 2 != 0 and long_annotation == 1 and long_str == 0 :\n",
    "            long_annotation = 0\n",
    "            continue    \n",
    "        elif line.count(\"'''\") % 2 != 0 and long_annotation == 0 and long_str == 1 :\n",
    "            long_str = 0\n",
    "                    \n",
    "                    \n",
    "        if long_annotation == 1 :                              # 위에 조건문을 통해서 긴 줄 주석이 없는데 long_annotation이 1이면 \n",
    "            continue       \n",
    "            \n",
    "        if '#' in line :                                        \n",
    "            if line[:line.index('#')].count('\\'') % 2 == 0 and line[line.index('#'):].count('\\'') % 2 == 0 :\n",
    "                line = line[:line.index('#')]                   \n",
    "                                                                \n",
    "            elif line[:line.index('#')].count('\\\"') % 2 == 0 and line[line.index('#'):].count('\\\"') % 2 == 0 :\n",
    "                line = line[:line.index('#')]                   \n",
    "                        \n",
    "        line = line.replace('\\n','')                            \n",
    "        line = line.replace('    ','\\t')                        \n",
    "                                                                \n",
    "        py_code.append(line) \n",
    "\n",
    "    temp_str = '\\n'.join(py_code)                               \n",
    "    code_list.append(temp_str)\n",
    "    \n",
    "result_df['code1'] = pd.DataFrame(code_list)"
   ]
  },
  {
   "cell_type": "code",
   "execution_count": null,
   "id": "d16ee377-a2c4-458f-90f6-49e9fead4a8d",
   "metadata": {
    "id": "9b8c1ffa"
   },
   "outputs": [],
   "source": []
  },
  {
   "cell_type": "code",
   "execution_count": null,
   "id": "b839bff6-b6be-43bc-8123-4999b9fac98b",
   "metadata": {
    "ExecuteTime": {
     "end_time": "2022-06-02T10:39:13.959327Z",
     "start_time": "2022-06-02T10:38:53.016605Z"
    },
    "id": "8fb833e5"
   },
   "outputs": [],
   "source": [
    "code_list = []\n",
    "\n",
    "for i in tqdm(range(len(test_df))) :\n",
    "    code_str = test_df['code2'][i].split('\\n')\n",
    "    py_code = []\n",
    "    long_annotation = 0\n",
    "    long_str = 0\n",
    "    \n",
    "    for line in code_str :                                     \n",
    "        line = line.rstrip().lstrip()                           \n",
    "                    \n",
    "        # 만약 한 줄 주석으로 시작하면 새로 반복\n",
    "        if line.startswith('#') :\n",
    "            continue\n",
    "        elif line.count('\"\"\"') == 0 and line.startswith('\\\"') and line[1:].endswith('\\\"') : # \"문자열\"\n",
    "            continue  \n",
    "        elif line.count(\"'''\") == 0 and line.startswith(\"\\'\") and line[1:].endswith(\"\\'\") :  # '문자열'\n",
    "            continue\n",
    "         \n",
    "        \n",
    "        # \"\"\"를 찾았을 때\n",
    "        if line.count('\"\"\"') >= 1 : \n",
    "            if line.count('\"\"\"') % 2 == 0 and line.startswith('\"\"\"') and line[3:].endswith('\"\"\"') :\n",
    "                continue\n",
    "            elif line.count(\"'''\") % 2 == 0 and line.startswith(\"'''\") and line[3:].endswith(\"'''\") :\n",
    "                continue  \n",
    "    \n",
    "        if line.count('\"\"\"') % 2 != 0 and long_annotation == 0 and long_str == 0 : \n",
    "            if line.startswith('\"\"\"') :         \n",
    "                long_annotation = 1                          \n",
    "                continue\n",
    "            else : \n",
    "                long_str = 1\n",
    "        elif line.count('\"\"\"') % 2 != 0 and long_annotation == 1 and long_str == 0 :\n",
    "            long_annotation = 0\n",
    "            continue    \n",
    "        elif line.count('\"\"\"') % 2 != 0 and long_annotation == 0 and long_str == 1 :\n",
    "            long_str = 0\n",
    "                    \n",
    "        # '''를 찾았을 때\n",
    "        if line.count(\"'''\") >= 1 : \n",
    "            if line.count('\"\"\"') % 2 == 0 and line.startswith('\"\"\"') and line[3:].endswith('\"\"\"') :\n",
    "                continue\n",
    "            elif line.count(\"'''\") % 2 == 0 and line.startswith(\"'''\") and line[3:].endswith(\"'''\") :\n",
    "                continue  \n",
    "    \n",
    "        if line.count(\"'''\") % 2 != 0 and long_annotation == 0 and long_str == 0 : \n",
    "            if line.startswith(\"'''\") :         \n",
    "                long_annotation = 1                          \n",
    "                continue\n",
    "            else : \n",
    "                long_str = 1\n",
    "        elif line.count(\"'''\") % 2 != 0 and long_annotation == 1 and long_str == 0 :\n",
    "            long_annotation = 0\n",
    "            continue    \n",
    "        elif line.count(\"'''\") % 2 != 0 and long_annotation == 0 and long_str == 1 :\n",
    "            long_str = 0\n",
    "                    \n",
    "                    \n",
    "        if long_annotation == 1 :                              # 위에 조건문을 통해서 긴 줄 주석이 없는데 long_annotation이 1이면 \n",
    "            continue       \n",
    "            \n",
    "        if '#' in line :                                        \n",
    "            if line[:line.index('#')].count('\\'') % 2 == 0 and line[line.index('#'):].count('\\'') % 2 == 0 :\n",
    "                line = line[:line.index('#')]                   \n",
    "                                                                \n",
    "            elif line[:line.index('#')].count('\\\"') % 2 == 0 and line[line.index('#'):].count('\\\"') % 2 == 0 :\n",
    "                line = line[:line.index('#')]                   \n",
    "                        \n",
    "        line = line.replace('\\n','')                            \n",
    "        line = line.replace('    ','\\t')                        \n",
    "                                                                \n",
    "        py_code.append(line) \n",
    "\n",
    "    temp_str = '\\n'.join(py_code)                               \n",
    "    code_list.append(temp_str)\n",
    "\n",
    "result_df['code2'] = pd.DataFrame(code_list)"
   ]
  },
  {
   "cell_type": "code",
   "execution_count": null,
   "id": "4eea47f6-7a4b-497a-a2e0-ce5911d200ac",
   "metadata": {
    "ExecuteTime": {
     "end_time": "2022-06-02T10:42:45.617942Z",
     "start_time": "2022-06-02T10:42:40.937408Z"
    },
    "id": "46519ee7"
   },
   "outputs": [],
   "source": [
    "result_df.to_csv('./open_code_test.csv')"
   ]
  },
  {
   "cell_type": "code",
   "execution_count": null,
   "id": "8f3d0b22-d774-4146-92ad-23d917221bcf",
   "metadata": {
    "id": "774cd4b2"
   },
   "outputs": [],
   "source": []
  },
  {
   "cell_type": "code",
   "execution_count": null,
   "id": "c296c205-5455-4066-ac05-7fb036256ea9",
   "metadata": {
    "id": "041aaf07"
   },
   "outputs": [],
   "source": []
  },
  {
   "cell_type": "markdown",
   "id": "b49f2159-663f-4815-806d-894ea549b3a8",
   "metadata": {
    "id": "371f7a07"
   },
   "source": [
    "# 테스트 파일 전처리"
   ]
  },
  {
   "cell_type": "code",
   "execution_count": null,
   "id": "19849229-99f2-4d60-941a-e2079ab7aa61",
   "metadata": {
    "ExecuteTime": {
     "end_time": "2022-06-02T10:38:31.602573Z",
     "start_time": "2022-06-02T10:38:29.025713Z"
    },
    "id": "e5d5905f"
   },
   "outputs": [],
   "source": [
    "test_df = pd.read_csv('./open/test.csv', encoding='utf-8')"
   ]
  },
  {
   "cell_type": "code",
   "execution_count": null,
   "id": "0a9ec1a0-a7f3-4c34-b2e7-da838d7fba8e",
   "metadata": {
    "ExecuteTime": {
     "end_time": "2022-06-02T10:38:31.649553Z",
     "start_time": "2022-06-02T10:38:31.604575Z"
    },
    "id": "fc04967b"
   },
   "outputs": [],
   "source": [
    "result_df = pd.DataFrame(columns = test_df.columns)\n",
    "result_df['pair_id'] = test_df['pair_id'].copy()\n",
    "result_df"
   ]
  },
  {
   "cell_type": "code",
   "execution_count": null,
   "id": "8f1fb1d8-79fd-4d76-b6ea-7d36290476aa",
   "metadata": {
    "ExecuteTime": {
     "end_time": "2022-06-02T10:38:53.013599Z",
     "start_time": "2022-06-02T10:38:31.652549Z"
    },
    "id": "ee1d2a58"
   },
   "outputs": [],
   "source": [
    "code_list = []\n",
    "\n",
    "for i in tqdm(range(len(test_df))) :\n",
    "    code_str = test_df['code1'][i].split('\\n')\n",
    "    py_code = []\n",
    "    long_annotation = 0\n",
    "    long_str = 0\n",
    "    \n",
    "    for line in code_str :                                     \n",
    "        line = line.rstrip().lstrip()                           \n",
    "                    \n",
    "        # 만약 한 줄 주석으로 시작하면 새로 반복\n",
    "        if line.startswith('#') :\n",
    "            continue\n",
    "        elif line.count('\"\"\"') == 0 and line.startswith('\\\"') and line[1:].endswith('\\\"') : # \"문자열\"\n",
    "            continue  \n",
    "        elif line.count(\"'''\") == 0 and line.startswith(\"\\'\") and line[1:].endswith(\"\\'\") :  # '문자열'\n",
    "            continue\n",
    "         \n",
    "        \n",
    "        # \"\"\"를 찾았을 때\n",
    "        if line.count('\"\"\"') >= 1 : \n",
    "            if line.count('\"\"\"') % 2 == 0 and line.startswith('\"\"\"') and line[3:].endswith('\"\"\"') :\n",
    "                continue\n",
    "            elif line.count(\"'''\") % 2 == 0 and line.startswith(\"'''\") and line[3:].endswith(\"'''\") :\n",
    "                continue  \n",
    "    \n",
    "        if line.count('\"\"\"') % 2 != 0 and long_annotation == 0 and long_str == 0 : \n",
    "            if line.startswith('\"\"\"') :         \n",
    "                long_annotation = 1                          \n",
    "                continue\n",
    "            else : \n",
    "                long_str = 1\n",
    "        elif line.count('\"\"\"') % 2 != 0 and long_annotation == 1 and long_str == 0 :\n",
    "            long_annotation = 0\n",
    "            continue    \n",
    "        elif line.count('\"\"\"') % 2 != 0 and long_annotation == 0 and long_str == 1 :\n",
    "            long_str = 0\n",
    "                    \n",
    "        # '''를 찾았을 때\n",
    "        if line.count(\"'''\") >= 1 : \n",
    "            if line.count('\"\"\"') % 2 == 0 and line.startswith('\"\"\"') and line[3:].endswith('\"\"\"') :\n",
    "                continue\n",
    "            elif line.count(\"'''\") % 2 == 0 and line.startswith(\"'''\") and line[3:].endswith(\"'''\") :\n",
    "                continue  \n",
    "    \n",
    "        if line.count(\"'''\") % 2 != 0 and long_annotation == 0 and long_str == 0 : \n",
    "            if line.startswith(\"'''\") :         \n",
    "                long_annotation = 1                          \n",
    "                continue\n",
    "            else : \n",
    "                long_str = 1\n",
    "        elif line.count(\"'''\") % 2 != 0 and long_annotation == 1 and long_str == 0 :\n",
    "            long_annotation = 0\n",
    "            continue    \n",
    "        elif line.count(\"'''\") % 2 != 0 and long_annotation == 0 and long_str == 1 :\n",
    "            long_str = 0\n",
    "                    \n",
    "                    \n",
    "        if long_annotation == 1 :                              # 위에 조건문을 통해서 긴 줄 주석이 없는데 long_annotation이 1이면 \n",
    "            continue       \n",
    "            \n",
    "        if '#' in line :                                        \n",
    "            if line[:line.index('#')].count('\\'') % 2 == 0 and line[line.index('#'):].count('\\'') % 2 == 0 :\n",
    "                line = line[:line.index('#')]                   \n",
    "                                                                \n",
    "            elif line[:line.index('#')].count('\\\"') % 2 == 0 and line[line.index('#'):].count('\\\"') % 2 == 0 :\n",
    "                line = line[:line.index('#')]                   \n",
    "                        \n",
    "        line = line.replace('\\n','')                            \n",
    "        line = line.replace('    ','\\t')                        \n",
    "                                                                \n",
    "        py_code.append(line) \n",
    "\n",
    "    temp_str = '\\n'.join(py_code)                               \n",
    "    code_list.append(temp_str)\n",
    "    \n",
    "result_df['code1'] = pd.DataFrame(code_list)"
   ]
  },
  {
   "cell_type": "code",
   "execution_count": null,
   "id": "da370f3d-4266-48ab-93e8-a2749115028a",
   "metadata": {
    "id": "9b8c1ffa"
   },
   "outputs": [],
   "source": []
  },
  {
   "cell_type": "code",
   "execution_count": null,
   "id": "2c110ea3-9dd1-43e0-a2df-eecf32c984c7",
   "metadata": {
    "ExecuteTime": {
     "end_time": "2022-06-02T10:39:13.959327Z",
     "start_time": "2022-06-02T10:38:53.016605Z"
    },
    "id": "8fb833e5"
   },
   "outputs": [],
   "source": [
    "code_list = []\n",
    "\n",
    "for i in tqdm(range(len(test_df))) :\n",
    "    code_str = test_df['code2'][i].split('\\n')\n",
    "    py_code = []\n",
    "    long_annotation = 0\n",
    "    long_str = 0\n",
    "    \n",
    "    for line in code_str :                                     \n",
    "        line = line.rstrip().lstrip()                           \n",
    "                    \n",
    "        # 만약 한 줄 주석으로 시작하면 새로 반복\n",
    "        if line.startswith('#') :\n",
    "            continue\n",
    "        elif line.count('\"\"\"') == 0 and line.startswith('\\\"') and line[1:].endswith('\\\"') : # \"문자열\"\n",
    "            continue  \n",
    "        elif line.count(\"'''\") == 0 and line.startswith(\"\\'\") and line[1:].endswith(\"\\'\") :  # '문자열'\n",
    "            continue\n",
    "         \n",
    "        \n",
    "        # \"\"\"를 찾았을 때\n",
    "        if line.count('\"\"\"') >= 1 : \n",
    "            if line.count('\"\"\"') % 2 == 0 and line.startswith('\"\"\"') and line[3:].endswith('\"\"\"') :\n",
    "                continue\n",
    "            elif line.count(\"'''\") % 2 == 0 and line.startswith(\"'''\") and line[3:].endswith(\"'''\") :\n",
    "                continue  \n",
    "    \n",
    "        if line.count('\"\"\"') % 2 != 0 and long_annotation == 0 and long_str == 0 : \n",
    "            if line.startswith('\"\"\"') :         \n",
    "                long_annotation = 1                          \n",
    "                continue\n",
    "            else : \n",
    "                long_str = 1\n",
    "        elif line.count('\"\"\"') % 2 != 0 and long_annotation == 1 and long_str == 0 :\n",
    "            long_annotation = 0\n",
    "            continue    \n",
    "        elif line.count('\"\"\"') % 2 != 0 and long_annotation == 0 and long_str == 1 :\n",
    "            long_str = 0\n",
    "                    \n",
    "        # '''를 찾았을 때\n",
    "        if line.count(\"'''\") >= 1 : \n",
    "            if line.count('\"\"\"') % 2 == 0 and line.startswith('\"\"\"') and line[3:].endswith('\"\"\"') :\n",
    "                continue\n",
    "            elif line.count(\"'''\") % 2 == 0 and line.startswith(\"'''\") and line[3:].endswith(\"'''\") :\n",
    "                continue  \n",
    "    \n",
    "        if line.count(\"'''\") % 2 != 0 and long_annotation == 0 and long_str == 0 : \n",
    "            if line.startswith(\"'''\") :         \n",
    "                long_annotation = 1                          \n",
    "                continue\n",
    "            else : \n",
    "                long_str = 1\n",
    "        elif line.count(\"'''\") % 2 != 0 and long_annotation == 1 and long_str == 0 :\n",
    "            long_annotation = 0\n",
    "            continue    \n",
    "        elif line.count(\"'''\") % 2 != 0 and long_annotation == 0 and long_str == 1 :\n",
    "            long_str = 0\n",
    "                    \n",
    "                    \n",
    "        if long_annotation == 1 :                              # 위에 조건문을 통해서 긴 줄 주석이 없는데 long_annotation이 1이면 \n",
    "            continue       \n",
    "            \n",
    "        if '#' in line :                                        \n",
    "            if line[:line.index('#')].count('\\'') % 2 == 0 and line[line.index('#'):].count('\\'') % 2 == 0 :\n",
    "                line = line[:line.index('#')]                   \n",
    "                                                                \n",
    "            elif line[:line.index('#')].count('\\\"') % 2 == 0 and line[line.index('#'):].count('\\\"') % 2 == 0 :\n",
    "                line = line[:line.index('#')]                   \n",
    "                        \n",
    "        line = line.replace('\\n','')                            \n",
    "        line = line.replace('    ','\\t')                        \n",
    "                                                                \n",
    "        py_code.append(line) \n",
    "\n",
    "    temp_str = '\\n'.join(py_code)                               \n",
    "    code_list.append(temp_str)\n",
    "\n",
    "result_df['code2'] = pd.DataFrame(code_list)"
   ]
  },
  {
   "cell_type": "code",
   "execution_count": null,
   "id": "29a33b89-bb18-415a-9ab3-5b0558e6a011",
   "metadata": {
    "ExecuteTime": {
     "end_time": "2022-06-02T10:42:45.617942Z",
     "start_time": "2022-06-02T10:42:40.937408Z"
    },
    "id": "46519ee7"
   },
   "outputs": [],
   "source": [
    "result_df.to_csv('./open_code_test.csv')"
   ]
  },
  {
   "cell_type": "code",
   "execution_count": null,
   "id": "fdeb6812-564c-4235-bae4-feaa75b1cfbb",
   "metadata": {
    "id": "774cd4b2"
   },
   "outputs": [],
   "source": []
  },
  {
   "cell_type": "code",
   "execution_count": null,
   "id": "8192b7d8-5b49-46cf-bbf8-da285b998068",
   "metadata": {
    "id": "041aaf07"
   },
   "outputs": [],
   "source": []
  },
  {
   "cell_type": "markdown",
   "id": "d5a7ba40-2fcc-4195-b5a7-df858cbc0aa7",
   "metadata": {
    "id": "371f7a07"
   },
   "source": [
    "# 테스트 파일 전처리"
   ]
  },
  {
   "cell_type": "code",
   "execution_count": null,
   "id": "c4030a82-7bcc-4c8b-a06a-171cf91935cb",
   "metadata": {
    "ExecuteTime": {
     "end_time": "2022-06-02T10:38:31.602573Z",
     "start_time": "2022-06-02T10:38:29.025713Z"
    },
    "id": "e5d5905f"
   },
   "outputs": [],
   "source": [
    "test_df = pd.read_csv('./open/test.csv', encoding='utf-8')"
   ]
  },
  {
   "cell_type": "code",
   "execution_count": null,
   "id": "fad75281-21c0-4545-83b2-0f182fa08feb",
   "metadata": {
    "ExecuteTime": {
     "end_time": "2022-06-02T10:38:31.649553Z",
     "start_time": "2022-06-02T10:38:31.604575Z"
    },
    "id": "fc04967b"
   },
   "outputs": [],
   "source": [
    "result_df = pd.DataFrame(columns = test_df.columns)\n",
    "result_df['pair_id'] = test_df['pair_id'].copy()\n",
    "result_df"
   ]
  },
  {
   "cell_type": "code",
   "execution_count": null,
   "id": "bb4fadc5-d121-4fcd-b515-8abe9be500e7",
   "metadata": {
    "ExecuteTime": {
     "end_time": "2022-06-02T10:38:53.013599Z",
     "start_time": "2022-06-02T10:38:31.652549Z"
    },
    "id": "ee1d2a58"
   },
   "outputs": [],
   "source": [
    "code_list = []\n",
    "\n",
    "for i in tqdm(range(len(test_df))) :\n",
    "    code_str = test_df['code1'][i].split('\\n')\n",
    "    py_code = []\n",
    "    long_annotation = 0\n",
    "    long_str = 0\n",
    "    \n",
    "    for line in code_str :                                     \n",
    "        line = line.rstrip().lstrip()                           \n",
    "                    \n",
    "        # 만약 한 줄 주석으로 시작하면 새로 반복\n",
    "        if line.startswith('#') :\n",
    "            continue\n",
    "        elif line.count('\"\"\"') == 0 and line.startswith('\\\"') and line[1:].endswith('\\\"') : # \"문자열\"\n",
    "            continue  \n",
    "        elif line.count(\"'''\") == 0 and line.startswith(\"\\'\") and line[1:].endswith(\"\\'\") :  # '문자열'\n",
    "            continue\n",
    "         \n",
    "        \n",
    "        # \"\"\"를 찾았을 때\n",
    "        if line.count('\"\"\"') >= 1 : \n",
    "            if line.count('\"\"\"') % 2 == 0 and line.startswith('\"\"\"') and line[3:].endswith('\"\"\"') :\n",
    "                continue\n",
    "            elif line.count(\"'''\") % 2 == 0 and line.startswith(\"'''\") and line[3:].endswith(\"'''\") :\n",
    "                continue  \n",
    "    \n",
    "        if line.count('\"\"\"') % 2 != 0 and long_annotation == 0 and long_str == 0 : \n",
    "            if line.startswith('\"\"\"') :         \n",
    "                long_annotation = 1                          \n",
    "                continue\n",
    "            else : \n",
    "                long_str = 1\n",
    "        elif line.count('\"\"\"') % 2 != 0 and long_annotation == 1 and long_str == 0 :\n",
    "            long_annotation = 0\n",
    "            continue    \n",
    "        elif line.count('\"\"\"') % 2 != 0 and long_annotation == 0 and long_str == 1 :\n",
    "            long_str = 0\n",
    "                    \n",
    "        # '''를 찾았을 때\n",
    "        if line.count(\"'''\") >= 1 : \n",
    "            if line.count('\"\"\"') % 2 == 0 and line.startswith('\"\"\"') and line[3:].endswith('\"\"\"') :\n",
    "                continue\n",
    "            elif line.count(\"'''\") % 2 == 0 and line.startswith(\"'''\") and line[3:].endswith(\"'''\") :\n",
    "                continue  \n",
    "    \n",
    "        if line.count(\"'''\") % 2 != 0 and long_annotation == 0 and long_str == 0 : \n",
    "            if line.startswith(\"'''\") :         \n",
    "                long_annotation = 1                          \n",
    "                continue\n",
    "            else : \n",
    "                long_str = 1\n",
    "        elif line.count(\"'''\") % 2 != 0 and long_annotation == 1 and long_str == 0 :\n",
    "            long_annotation = 0\n",
    "            continue    \n",
    "        elif line.count(\"'''\") % 2 != 0 and long_annotation == 0 and long_str == 1 :\n",
    "            long_str = 0\n",
    "                    \n",
    "                    \n",
    "        if long_annotation == 1 :                              # 위에 조건문을 통해서 긴 줄 주석이 없는데 long_annotation이 1이면 \n",
    "            continue       \n",
    "            \n",
    "        if '#' in line :                                        \n",
    "            if line[:line.index('#')].count('\\'') % 2 == 0 and line[line.index('#'):].count('\\'') % 2 == 0 :\n",
    "                line = line[:line.index('#')]                   \n",
    "                                                                \n",
    "            elif line[:line.index('#')].count('\\\"') % 2 == 0 and line[line.index('#'):].count('\\\"') % 2 == 0 :\n",
    "                line = line[:line.index('#')]                   \n",
    "                        \n",
    "        line = line.replace('\\n','')                            \n",
    "        line = line.replace('    ','\\t')                        \n",
    "                                                                \n",
    "        py_code.append(line) \n",
    "\n",
    "    temp_str = '\\n'.join(py_code)                               \n",
    "    code_list.append(temp_str)\n",
    "    \n",
    "result_df['code1'] = pd.DataFrame(code_list)"
   ]
  },
  {
   "cell_type": "code",
   "execution_count": null,
   "id": "dd77ca56-1d1c-451b-a794-56cecce84590",
   "metadata": {
    "id": "9b8c1ffa"
   },
   "outputs": [],
   "source": []
  },
  {
   "cell_type": "code",
   "execution_count": null,
   "id": "2aa25b17-9bb9-41d6-9f81-221a7246e81e",
   "metadata": {
    "ExecuteTime": {
     "end_time": "2022-06-02T10:39:13.959327Z",
     "start_time": "2022-06-02T10:38:53.016605Z"
    },
    "id": "8fb833e5"
   },
   "outputs": [],
   "source": [
    "code_list = []\n",
    "\n",
    "for i in tqdm(range(len(test_df))) :\n",
    "    code_str = test_df['code2'][i].split('\\n')\n",
    "    py_code = []\n",
    "    long_annotation = 0\n",
    "    long_str = 0\n",
    "    \n",
    "    for line in code_str :                                     \n",
    "        line = line.rstrip().lstrip()                           \n",
    "                    \n",
    "        # 만약 한 줄 주석으로 시작하면 새로 반복\n",
    "        if line.startswith('#') :\n",
    "            continue\n",
    "        elif line.count('\"\"\"') == 0 and line.startswith('\\\"') and line[1:].endswith('\\\"') : # \"문자열\"\n",
    "            continue  \n",
    "        elif line.count(\"'''\") == 0 and line.startswith(\"\\'\") and line[1:].endswith(\"\\'\") :  # '문자열'\n",
    "            continue\n",
    "         \n",
    "        \n",
    "        # \"\"\"를 찾았을 때\n",
    "        if line.count('\"\"\"') >= 1 : \n",
    "            if line.count('\"\"\"') % 2 == 0 and line.startswith('\"\"\"') and line[3:].endswith('\"\"\"') :\n",
    "                continue\n",
    "            elif line.count(\"'''\") % 2 == 0 and line.startswith(\"'''\") and line[3:].endswith(\"'''\") :\n",
    "                continue  \n",
    "    \n",
    "        if line.count('\"\"\"') % 2 != 0 and long_annotation == 0 and long_str == 0 : \n",
    "            if line.startswith('\"\"\"') :         \n",
    "                long_annotation = 1                          \n",
    "                continue\n",
    "            else : \n",
    "                long_str = 1\n",
    "        elif line.count('\"\"\"') % 2 != 0 and long_annotation == 1 and long_str == 0 :\n",
    "            long_annotation = 0\n",
    "            continue    \n",
    "        elif line.count('\"\"\"') % 2 != 0 and long_annotation == 0 and long_str == 1 :\n",
    "            long_str = 0\n",
    "                    \n",
    "        # '''를 찾았을 때\n",
    "        if line.count(\"'''\") >= 1 : \n",
    "            if line.count('\"\"\"') % 2 == 0 and line.startswith('\"\"\"') and line[3:].endswith('\"\"\"') :\n",
    "                continue\n",
    "            elif line.count(\"'''\") % 2 == 0 and line.startswith(\"'''\") and line[3:].endswith(\"'''\") :\n",
    "                continue  \n",
    "    \n",
    "        if line.count(\"'''\") % 2 != 0 and long_annotation == 0 and long_str == 0 : \n",
    "            if line.startswith(\"'''\") :         \n",
    "                long_annotation = 1                          \n",
    "                continue\n",
    "            else : \n",
    "                long_str = 1\n",
    "        elif line.count(\"'''\") % 2 != 0 and long_annotation == 1 and long_str == 0 :\n",
    "            long_annotation = 0\n",
    "            continue    \n",
    "        elif line.count(\"'''\") % 2 != 0 and long_annotation == 0 and long_str == 1 :\n",
    "            long_str = 0\n",
    "                    \n",
    "                    \n",
    "        if long_annotation == 1 :                              # 위에 조건문을 통해서 긴 줄 주석이 없는데 long_annotation이 1이면 \n",
    "            continue       \n",
    "            \n",
    "        if '#' in line :                                        \n",
    "            if line[:line.index('#')].count('\\'') % 2 == 0 and line[line.index('#'):].count('\\'') % 2 == 0 :\n",
    "                line = line[:line.index('#')]                   \n",
    "                                                                \n",
    "            elif line[:line.index('#')].count('\\\"') % 2 == 0 and line[line.index('#'):].count('\\\"') % 2 == 0 :\n",
    "                line = line[:line.index('#')]                   \n",
    "                        \n",
    "        line = line.replace('\\n','')                            \n",
    "        line = line.replace('    ','\\t')                        \n",
    "                                                                \n",
    "        py_code.append(line) \n",
    "\n",
    "    temp_str = '\\n'.join(py_code)                               \n",
    "    code_list.append(temp_str)\n",
    "\n",
    "result_df['code2'] = pd.DataFrame(code_list)"
   ]
  },
  {
   "cell_type": "code",
   "execution_count": null,
   "id": "6aa8ce43-34ef-4ee6-8391-a7001fbde823",
   "metadata": {
    "ExecuteTime": {
     "end_time": "2022-06-02T10:42:45.617942Z",
     "start_time": "2022-06-02T10:42:40.937408Z"
    },
    "id": "46519ee7"
   },
   "outputs": [],
   "source": [
    "result_df.to_csv('./open_code_test.csv')"
   ]
  },
  {
   "cell_type": "code",
   "execution_count": null,
   "id": "cfde1b56-eab2-48a2-bc18-e9c0835ddc08",
   "metadata": {
    "id": "774cd4b2"
   },
   "outputs": [],
   "source": []
  },
  {
   "cell_type": "code",
   "execution_count": null,
   "id": "57afb9de-cfa0-4dd5-adff-56f4ceb16e40",
   "metadata": {
    "id": "041aaf07"
   },
   "outputs": [],
   "source": []
  },
  {
   "cell_type": "markdown",
   "id": "923e4b1e-788b-4152-8a37-9d773d6d6a4d",
   "metadata": {
    "id": "371f7a07"
   },
   "source": [
    "# 테스트 파일 전처리"
   ]
  },
  {
   "cell_type": "code",
   "execution_count": null,
   "id": "e9149003-6960-488b-81bc-64e194780caf",
   "metadata": {
    "ExecuteTime": {
     "end_time": "2022-06-02T10:38:31.602573Z",
     "start_time": "2022-06-02T10:38:29.025713Z"
    },
    "id": "e5d5905f"
   },
   "outputs": [],
   "source": [
    "test_df = pd.read_csv('./open/test.csv', encoding='utf-8')"
   ]
  },
  {
   "cell_type": "code",
   "execution_count": null,
   "id": "8837c08a-9932-4b4f-8ca9-cd7e954d68f4",
   "metadata": {
    "ExecuteTime": {
     "end_time": "2022-06-02T10:38:31.649553Z",
     "start_time": "2022-06-02T10:38:31.604575Z"
    },
    "id": "fc04967b"
   },
   "outputs": [],
   "source": [
    "result_df = pd.DataFrame(columns = test_df.columns)\n",
    "result_df['pair_id'] = test_df['pair_id'].copy()\n",
    "result_df"
   ]
  },
  {
   "cell_type": "code",
   "execution_count": null,
   "id": "81485230-1d01-47a7-b94d-468551d66e7b",
   "metadata": {
    "ExecuteTime": {
     "end_time": "2022-06-02T10:38:53.013599Z",
     "start_time": "2022-06-02T10:38:31.652549Z"
    },
    "id": "ee1d2a58"
   },
   "outputs": [],
   "source": [
    "code_list = []\n",
    "\n",
    "for i in tqdm(range(len(test_df))) :\n",
    "    code_str = test_df['code1'][i].split('\\n')\n",
    "    py_code = []\n",
    "    long_annotation = 0\n",
    "    long_str = 0\n",
    "    \n",
    "    for line in code_str :                                     \n",
    "        line = line.rstrip().lstrip()                           \n",
    "                    \n",
    "        # 만약 한 줄 주석으로 시작하면 새로 반복\n",
    "        if line.startswith('#') :\n",
    "            continue\n",
    "        elif line.count('\"\"\"') == 0 and line.startswith('\\\"') and line[1:].endswith('\\\"') : # \"문자열\"\n",
    "            continue  \n",
    "        elif line.count(\"'''\") == 0 and line.startswith(\"\\'\") and line[1:].endswith(\"\\'\") :  # '문자열'\n",
    "            continue\n",
    "         \n",
    "        \n",
    "        # \"\"\"를 찾았을 때\n",
    "        if line.count('\"\"\"') >= 1 : \n",
    "            if line.count('\"\"\"') % 2 == 0 and line.startswith('\"\"\"') and line[3:].endswith('\"\"\"') :\n",
    "                continue\n",
    "            elif line.count(\"'''\") % 2 == 0 and line.startswith(\"'''\") and line[3:].endswith(\"'''\") :\n",
    "                continue  \n",
    "    \n",
    "        if line.count('\"\"\"') % 2 != 0 and long_annotation == 0 and long_str == 0 : \n",
    "            if line.startswith('\"\"\"') :         \n",
    "                long_annotation = 1                          \n",
    "                continue\n",
    "            else : \n",
    "                long_str = 1\n",
    "        elif line.count('\"\"\"') % 2 != 0 and long_annotation == 1 and long_str == 0 :\n",
    "            long_annotation = 0\n",
    "            continue    \n",
    "        elif line.count('\"\"\"') % 2 != 0 and long_annotation == 0 and long_str == 1 :\n",
    "            long_str = 0\n",
    "                    \n",
    "        # '''를 찾았을 때\n",
    "        if line.count(\"'''\") >= 1 : \n",
    "            if line.count('\"\"\"') % 2 == 0 and line.startswith('\"\"\"') and line[3:].endswith('\"\"\"') :\n",
    "                continue\n",
    "            elif line.count(\"'''\") % 2 == 0 and line.startswith(\"'''\") and line[3:].endswith(\"'''\") :\n",
    "                continue  \n",
    "    \n",
    "        if line.count(\"'''\") % 2 != 0 and long_annotation == 0 and long_str == 0 : \n",
    "            if line.startswith(\"'''\") :         \n",
    "                long_annotation = 1                          \n",
    "                continue\n",
    "            else : \n",
    "                long_str = 1\n",
    "        elif line.count(\"'''\") % 2 != 0 and long_annotation == 1 and long_str == 0 :\n",
    "            long_annotation = 0\n",
    "            continue    \n",
    "        elif line.count(\"'''\") % 2 != 0 and long_annotation == 0 and long_str == 1 :\n",
    "            long_str = 0\n",
    "                    \n",
    "                    \n",
    "        if long_annotation == 1 :                              # 위에 조건문을 통해서 긴 줄 주석이 없는데 long_annotation이 1이면 \n",
    "            continue       \n",
    "            \n",
    "        if '#' in line :                                        \n",
    "            if line[:line.index('#')].count('\\'') % 2 == 0 and line[line.index('#'):].count('\\'') % 2 == 0 :\n",
    "                line = line[:line.index('#')]                   \n",
    "                                                                \n",
    "            elif line[:line.index('#')].count('\\\"') % 2 == 0 and line[line.index('#'):].count('\\\"') % 2 == 0 :\n",
    "                line = line[:line.index('#')]                   \n",
    "                        \n",
    "        line = line.replace('\\n','')                            \n",
    "        line = line.replace('    ','\\t')                        \n",
    "                                                                \n",
    "        py_code.append(line) \n",
    "\n",
    "    temp_str = '\\n'.join(py_code)                               \n",
    "    code_list.append(temp_str)\n",
    "    \n",
    "result_df['code1'] = pd.DataFrame(code_list)"
   ]
  },
  {
   "cell_type": "code",
   "execution_count": null,
   "id": "708e77f9-1cba-4819-98a2-9bddbe42bd06",
   "metadata": {
    "id": "9b8c1ffa"
   },
   "outputs": [],
   "source": []
  },
  {
   "cell_type": "code",
   "execution_count": null,
   "id": "f63e8ec0-2736-4bf7-a455-afe9d899e1cb",
   "metadata": {
    "ExecuteTime": {
     "end_time": "2022-06-02T10:39:13.959327Z",
     "start_time": "2022-06-02T10:38:53.016605Z"
    },
    "id": "8fb833e5"
   },
   "outputs": [],
   "source": [
    "code_list = []\n",
    "\n",
    "for i in tqdm(range(len(test_df))) :\n",
    "    code_str = test_df['code2'][i].split('\\n')\n",
    "    py_code = []\n",
    "    long_annotation = 0\n",
    "    long_str = 0\n",
    "    \n",
    "    for line in code_str :                                     \n",
    "        line = line.rstrip().lstrip()                           \n",
    "                    \n",
    "        # 만약 한 줄 주석으로 시작하면 새로 반복\n",
    "        if line.startswith('#') :\n",
    "            continue\n",
    "        elif line.count('\"\"\"') == 0 and line.startswith('\\\"') and line[1:].endswith('\\\"') : # \"문자열\"\n",
    "            continue  \n",
    "        elif line.count(\"'''\") == 0 and line.startswith(\"\\'\") and line[1:].endswith(\"\\'\") :  # '문자열'\n",
    "            continue\n",
    "         \n",
    "        \n",
    "        # \"\"\"를 찾았을 때\n",
    "        if line.count('\"\"\"') >= 1 : \n",
    "            if line.count('\"\"\"') % 2 == 0 and line.startswith('\"\"\"') and line[3:].endswith('\"\"\"') :\n",
    "                continue\n",
    "            elif line.count(\"'''\") % 2 == 0 and line.startswith(\"'''\") and line[3:].endswith(\"'''\") :\n",
    "                continue  \n",
    "    \n",
    "        if line.count('\"\"\"') % 2 != 0 and long_annotation == 0 and long_str == 0 : \n",
    "            if line.startswith('\"\"\"') :         \n",
    "                long_annotation = 1                          \n",
    "                continue\n",
    "            else : \n",
    "                long_str = 1\n",
    "        elif line.count('\"\"\"') % 2 != 0 and long_annotation == 1 and long_str == 0 :\n",
    "            long_annotation = 0\n",
    "            continue    \n",
    "        elif line.count('\"\"\"') % 2 != 0 and long_annotation == 0 and long_str == 1 :\n",
    "            long_str = 0\n",
    "                    \n",
    "        # '''를 찾았을 때\n",
    "        if line.count(\"'''\") >= 1 : \n",
    "            if line.count('\"\"\"') % 2 == 0 and line.startswith('\"\"\"') and line[3:].endswith('\"\"\"') :\n",
    "                continue\n",
    "            elif line.count(\"'''\") % 2 == 0 and line.startswith(\"'''\") and line[3:].endswith(\"'''\") :\n",
    "                continue  \n",
    "    \n",
    "        if line.count(\"'''\") % 2 != 0 and long_annotation == 0 and long_str == 0 : \n",
    "            if line.startswith(\"'''\") :         \n",
    "                long_annotation = 1                          \n",
    "                continue\n",
    "            else : \n",
    "                long_str = 1\n",
    "        elif line.count(\"'''\") % 2 != 0 and long_annotation == 1 and long_str == 0 :\n",
    "            long_annotation = 0\n",
    "            continue    \n",
    "        elif line.count(\"'''\") % 2 != 0 and long_annotation == 0 and long_str == 1 :\n",
    "            long_str = 0\n",
    "                    \n",
    "                    \n",
    "        if long_annotation == 1 :                              # 위에 조건문을 통해서 긴 줄 주석이 없는데 long_annotation이 1이면 \n",
    "            continue       \n",
    "            \n",
    "        if '#' in line :                                        \n",
    "            if line[:line.index('#')].count('\\'') % 2 == 0 and line[line.index('#'):].count('\\'') % 2 == 0 :\n",
    "                line = line[:line.index('#')]                   \n",
    "                                                                \n",
    "            elif line[:line.index('#')].count('\\\"') % 2 == 0 and line[line.index('#'):].count('\\\"') % 2 == 0 :\n",
    "                line = line[:line.index('#')]                   \n",
    "                        \n",
    "        line = line.replace('\\n','')                            \n",
    "        line = line.replace('    ','\\t')                        \n",
    "                                                                \n",
    "        py_code.append(line) \n",
    "\n",
    "    temp_str = '\\n'.join(py_code)                               \n",
    "    code_list.append(temp_str)\n",
    "\n",
    "result_df['code2'] = pd.DataFrame(code_list)"
   ]
  },
  {
   "cell_type": "code",
   "execution_count": null,
   "id": "42d5f9ca-ae29-4840-9461-c91ff2d3be0d",
   "metadata": {
    "ExecuteTime": {
     "end_time": "2022-06-02T10:42:45.617942Z",
     "start_time": "2022-06-02T10:42:40.937408Z"
    },
    "id": "46519ee7"
   },
   "outputs": [],
   "source": [
    "result_df.to_csv('./open_code_test.csv')"
   ]
  },
  {
   "cell_type": "code",
   "execution_count": null,
   "id": "eea07306-5179-46a1-8724-bd65efa40d15",
   "metadata": {
    "id": "774cd4b2"
   },
   "outputs": [],
   "source": []
  },
  {
   "cell_type": "code",
   "execution_count": null,
   "id": "2f92beee-468a-4b4b-b064-251d2d8d578c",
   "metadata": {
    "id": "041aaf07"
   },
   "outputs": [],
   "source": []
  },
  {
   "cell_type": "markdown",
   "id": "e982050c-6f0c-4581-b9a5-5bd834054c38",
   "metadata": {
    "id": "371f7a07"
   },
   "source": [
    "# 테스트 파일 전처리"
   ]
  },
  {
   "cell_type": "code",
   "execution_count": null,
   "id": "978f22db-42a9-430f-8902-35bd48e8eeeb",
   "metadata": {
    "ExecuteTime": {
     "end_time": "2022-06-02T10:38:31.602573Z",
     "start_time": "2022-06-02T10:38:29.025713Z"
    },
    "id": "e5d5905f"
   },
   "outputs": [],
   "source": [
    "test_df = pd.read_csv('./open/test.csv', encoding='utf-8')"
   ]
  },
  {
   "cell_type": "code",
   "execution_count": null,
   "id": "20b593b6-57bf-4256-84a7-4d2f066c6d41",
   "metadata": {
    "ExecuteTime": {
     "end_time": "2022-06-02T10:38:31.649553Z",
     "start_time": "2022-06-02T10:38:31.604575Z"
    },
    "id": "fc04967b"
   },
   "outputs": [],
   "source": [
    "result_df = pd.DataFrame(columns = test_df.columns)\n",
    "result_df['pair_id'] = test_df['pair_id'].copy()\n",
    "result_df"
   ]
  },
  {
   "cell_type": "code",
   "execution_count": null,
   "id": "55e4cb0c-48de-4d17-8e1b-069dfd05a48a",
   "metadata": {
    "ExecuteTime": {
     "end_time": "2022-06-02T10:38:53.013599Z",
     "start_time": "2022-06-02T10:38:31.652549Z"
    },
    "id": "ee1d2a58"
   },
   "outputs": [],
   "source": [
    "code_list = []\n",
    "\n",
    "for i in tqdm(range(len(test_df))) :\n",
    "    code_str = test_df['code1'][i].split('\\n')\n",
    "    py_code = []\n",
    "    long_annotation = 0\n",
    "    long_str = 0\n",
    "    \n",
    "    for line in code_str :                                     \n",
    "        line = line.rstrip().lstrip()                           \n",
    "                    \n",
    "        # 만약 한 줄 주석으로 시작하면 새로 반복\n",
    "        if line.startswith('#') :\n",
    "            continue\n",
    "        elif line.count('\"\"\"') == 0 and line.startswith('\\\"') and line[1:].endswith('\\\"') : # \"문자열\"\n",
    "            continue  \n",
    "        elif line.count(\"'''\") == 0 and line.startswith(\"\\'\") and line[1:].endswith(\"\\'\") :  # '문자열'\n",
    "            continue\n",
    "         \n",
    "        \n",
    "        # \"\"\"를 찾았을 때\n",
    "        if line.count('\"\"\"') >= 1 : \n",
    "            if line.count('\"\"\"') % 2 == 0 and line.startswith('\"\"\"') and line[3:].endswith('\"\"\"') :\n",
    "                continue\n",
    "            elif line.count(\"'''\") % 2 == 0 and line.startswith(\"'''\") and line[3:].endswith(\"'''\") :\n",
    "                continue  \n",
    "    \n",
    "        if line.count('\"\"\"') % 2 != 0 and long_annotation == 0 and long_str == 0 : \n",
    "            if line.startswith('\"\"\"') :         \n",
    "                long_annotation = 1                          \n",
    "                continue\n",
    "            else : \n",
    "                long_str = 1\n",
    "        elif line.count('\"\"\"') % 2 != 0 and long_annotation == 1 and long_str == 0 :\n",
    "            long_annotation = 0\n",
    "            continue    \n",
    "        elif line.count('\"\"\"') % 2 != 0 and long_annotation == 0 and long_str == 1 :\n",
    "            long_str = 0\n",
    "                    \n",
    "        # '''를 찾았을 때\n",
    "        if line.count(\"'''\") >= 1 : \n",
    "            if line.count('\"\"\"') % 2 == 0 and line.startswith('\"\"\"') and line[3:].endswith('\"\"\"') :\n",
    "                continue\n",
    "            elif line.count(\"'''\") % 2 == 0 and line.startswith(\"'''\") and line[3:].endswith(\"'''\") :\n",
    "                continue  \n",
    "    \n",
    "        if line.count(\"'''\") % 2 != 0 and long_annotation == 0 and long_str == 0 : \n",
    "            if line.startswith(\"'''\") :         \n",
    "                long_annotation = 1                          \n",
    "                continue\n",
    "            else : \n",
    "                long_str = 1\n",
    "        elif line.count(\"'''\") % 2 != 0 and long_annotation == 1 and long_str == 0 :\n",
    "            long_annotation = 0\n",
    "            continue    \n",
    "        elif line.count(\"'''\") % 2 != 0 and long_annotation == 0 and long_str == 1 :\n",
    "            long_str = 0\n",
    "                    \n",
    "                    \n",
    "        if long_annotation == 1 :                              # 위에 조건문을 통해서 긴 줄 주석이 없는데 long_annotation이 1이면 \n",
    "            continue       \n",
    "            \n",
    "        if '#' in line :                                        \n",
    "            if line[:line.index('#')].count('\\'') % 2 == 0 and line[line.index('#'):].count('\\'') % 2 == 0 :\n",
    "                line = line[:line.index('#')]                   \n",
    "                                                                \n",
    "            elif line[:line.index('#')].count('\\\"') % 2 == 0 and line[line.index('#'):].count('\\\"') % 2 == 0 :\n",
    "                line = line[:line.index('#')]                   \n",
    "                        \n",
    "        line = line.replace('\\n','')                            \n",
    "        line = line.replace('    ','\\t')                        \n",
    "                                                                \n",
    "        py_code.append(line) \n",
    "\n",
    "    temp_str = '\\n'.join(py_code)                               \n",
    "    code_list.append(temp_str)\n",
    "    \n",
    "result_df['code1'] = pd.DataFrame(code_list)"
   ]
  },
  {
   "cell_type": "code",
   "execution_count": null,
   "id": "7ca11512-7ced-4f30-af15-002074385de6",
   "metadata": {
    "id": "9b8c1ffa"
   },
   "outputs": [],
   "source": []
  },
  {
   "cell_type": "code",
   "execution_count": null,
   "id": "94a7d664-64b8-4b9c-9c30-13957bdfc3a1",
   "metadata": {
    "ExecuteTime": {
     "end_time": "2022-06-02T10:39:13.959327Z",
     "start_time": "2022-06-02T10:38:53.016605Z"
    },
    "id": "8fb833e5"
   },
   "outputs": [],
   "source": [
    "code_list = []\n",
    "\n",
    "for i in tqdm(range(len(test_df))) :\n",
    "    code_str = test_df['code2'][i].split('\\n')\n",
    "    py_code = []\n",
    "    long_annotation = 0\n",
    "    long_str = 0\n",
    "    \n",
    "    for line in code_str :                                     \n",
    "        line = line.rstrip().lstrip()                           \n",
    "                    \n",
    "        # 만약 한 줄 주석으로 시작하면 새로 반복\n",
    "        if line.startswith('#') :\n",
    "            continue\n",
    "        elif line.count('\"\"\"') == 0 and line.startswith('\\\"') and line[1:].endswith('\\\"') : # \"문자열\"\n",
    "            continue  \n",
    "        elif line.count(\"'''\") == 0 and line.startswith(\"\\'\") and line[1:].endswith(\"\\'\") :  # '문자열'\n",
    "            continue\n",
    "         \n",
    "        \n",
    "        # \"\"\"를 찾았을 때\n",
    "        if line.count('\"\"\"') >= 1 : \n",
    "            if line.count('\"\"\"') % 2 == 0 and line.startswith('\"\"\"') and line[3:].endswith('\"\"\"') :\n",
    "                continue\n",
    "            elif line.count(\"'''\") % 2 == 0 and line.startswith(\"'''\") and line[3:].endswith(\"'''\") :\n",
    "                continue  \n",
    "    \n",
    "        if line.count('\"\"\"') % 2 != 0 and long_annotation == 0 and long_str == 0 : \n",
    "            if line.startswith('\"\"\"') :         \n",
    "                long_annotation = 1                          \n",
    "                continue\n",
    "            else : \n",
    "                long_str = 1\n",
    "        elif line.count('\"\"\"') % 2 != 0 and long_annotation == 1 and long_str == 0 :\n",
    "            long_annotation = 0\n",
    "            continue    \n",
    "        elif line.count('\"\"\"') % 2 != 0 and long_annotation == 0 and long_str == 1 :\n",
    "            long_str = 0\n",
    "                    \n",
    "        # '''를 찾았을 때\n",
    "        if line.count(\"'''\") >= 1 : \n",
    "            if line.count('\"\"\"') % 2 == 0 and line.startswith('\"\"\"') and line[3:].endswith('\"\"\"') :\n",
    "                continue\n",
    "            elif line.count(\"'''\") % 2 == 0 and line.startswith(\"'''\") and line[3:].endswith(\"'''\") :\n",
    "                continue  \n",
    "    \n",
    "        if line.count(\"'''\") % 2 != 0 and long_annotation == 0 and long_str == 0 : \n",
    "            if line.startswith(\"'''\") :         \n",
    "                long_annotation = 1                          \n",
    "                continue\n",
    "            else : \n",
    "                long_str = 1\n",
    "        elif line.count(\"'''\") % 2 != 0 and long_annotation == 1 and long_str == 0 :\n",
    "            long_annotation = 0\n",
    "            continue    \n",
    "        elif line.count(\"'''\") % 2 != 0 and long_annotation == 0 and long_str == 1 :\n",
    "            long_str = 0\n",
    "                    \n",
    "                    \n",
    "        if long_annotation == 1 :                              # 위에 조건문을 통해서 긴 줄 주석이 없는데 long_annotation이 1이면 \n",
    "            continue       \n",
    "            \n",
    "        if '#' in line :                                        \n",
    "            if line[:line.index('#')].count('\\'') % 2 == 0 and line[line.index('#'):].count('\\'') % 2 == 0 :\n",
    "                line = line[:line.index('#')]                   \n",
    "                                                                \n",
    "            elif line[:line.index('#')].count('\\\"') % 2 == 0 and line[line.index('#'):].count('\\\"') % 2 == 0 :\n",
    "                line = line[:line.index('#')]                   \n",
    "                        \n",
    "        line = line.replace('\\n','')                            \n",
    "        line = line.replace('    ','\\t')                        \n",
    "                                                                \n",
    "        py_code.append(line) \n",
    "\n",
    "    temp_str = '\\n'.join(py_code)                               \n",
    "    code_list.append(temp_str)\n",
    "\n",
    "result_df['code2'] = pd.DataFrame(code_list)"
   ]
  },
  {
   "cell_type": "code",
   "execution_count": null,
   "id": "6bf978e9-7124-4964-a340-4b6c08ae078b",
   "metadata": {
    "ExecuteTime": {
     "end_time": "2022-06-02T10:42:45.617942Z",
     "start_time": "2022-06-02T10:42:40.937408Z"
    },
    "id": "46519ee7"
   },
   "outputs": [],
   "source": [
    "result_df.to_csv('./open_code_test.csv')"
   ]
  },
  {
   "cell_type": "code",
   "execution_count": null,
   "id": "308087cb-4e1c-4904-b6f9-db09f54e51e7",
   "metadata": {
    "id": "774cd4b2"
   },
   "outputs": [],
   "source": []
  },
  {
   "cell_type": "code",
   "execution_count": null,
   "id": "ac0069a3-0e92-48f0-8ca3-60076a68b722",
   "metadata": {
    "id": "041aaf07"
   },
   "outputs": [],
   "source": []
  }
 ],
 "metadata": {
  "kernelspec": {
   "display_name": "Python 3 (ipykernel)",
   "language": "python",
   "name": "python3"
  },
  "language_info": {
   "codemirror_mode": {
    "name": "ipython",
    "version": 3
   },
   "file_extension": ".py",
   "mimetype": "text/x-python",
   "name": "python",
   "nbconvert_exporter": "python",
   "pygments_lexer": "ipython3",
   "version": "3.8.13"
  }
 },
 "nbformat": 4,
 "nbformat_minor": 5
}
