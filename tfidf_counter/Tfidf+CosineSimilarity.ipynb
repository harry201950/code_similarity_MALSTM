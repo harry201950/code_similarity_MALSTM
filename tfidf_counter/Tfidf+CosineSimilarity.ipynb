{
 "cells": [
  {
   "cell_type": "code",
   "execution_count": 1,
   "metadata": {},
   "outputs": [],
   "source": [
    "# problem 파일 경로 Desktop/project/code_similarity/open/code\n",
    "\n",
    "# problem 폴더 안 예제 코드 확장자명 변경\n",
    "import os\n",
    "import glob\n",
    "\n",
    "# .txt 병합\n",
    "import pandas as pd\n",
    "import numpy as np\n",
    "import sklearn\n",
    "\n",
    "# from sklearn.feature_extraction.text import CountVectorizer\n",
    "from sklearn.feature_extraction.text import TfidfVectorizer\n",
    "from sklearn.metrics.pairwise import cosine_similarity, linear_kernel\n",
    "from sklearn.metrics import accuracy_score, recall_score, precision_score, f1_score\n",
    "import scipy"
   ]
  },
  {
   "cell_type": "code",
   "execution_count": 2,
   "metadata": {},
   "outputs": [],
   "source": [
    "# 폴더 및 .py 파일 개수 확인\n",
    "path = \"./open/code/\"\n",
    "dataset = os.listdir(path)"
   ]
  },
  {
   "cell_type": "code",
   "execution_count": 3,
   "metadata": {},
   "outputs": [],
   "source": [
    "# ds.store숨김\n",
    "dataset = [folder for folder in dataset if folder.startswith('problem')]"
   ]
  },
  {
   "cell_type": "code",
   "execution_count": 4,
   "metadata": {},
   "outputs": [
    {
     "data": {
      "text/plain": [
       "300"
      ]
     },
     "execution_count": 4,
     "metadata": {},
     "output_type": "execute_result"
    }
   ],
   "source": [
    "# 폴더명 정렬\n",
    "dataset.sort(reverse=False)\n",
    "len(dataset)"
   ]
  },
  {
   "cell_type": "code",
   "execution_count": null,
   "metadata": {},
   "outputs": [],
   "source": [
    "# code - code/problem/.py 모두 불러옴\n",
    "'''\n",
    "cnt = 0\n",
    "for i in range(len(dataset)):\n",
    "    print(f\"{dataset[i]} \\t : \\t {len(os.listdir(path + dataset[i]))}\")\n",
    "    cnt += len(os.listdir(path + dataset[i]))\n",
    "'''"
   ]
  },
  {
   "cell_type": "code",
   "execution_count": null,
   "metadata": {},
   "outputs": [],
   "source": [
    "# .py 읽어오기\n",
    "# file = glob.glob(path + \"*/*.py\")"
   ]
  },
  {
   "cell_type": "code",
   "execution_count": null,
   "metadata": {},
   "outputs": [],
   "source": [
    "# 파일명 .txt 변환\n",
    "'''for name_ext in file:\n",
    "    if not os.path.isdir(name_ext):\n",
    "        src = os.path.splitext(name_ext)\n",
    "        os.rename(name_ext, src[0]+'.txt')\n",
    "'''"
   ]
  },
  {
   "cell_type": "code",
   "execution_count": 5,
   "metadata": {},
   "outputs": [],
   "source": [
    "# txt 파일 DF 저장\n",
    "csv_tr = []\n",
    "csv_tr2 = []\n",
    "similarity = []\n",
    "for i in glob.glob(\"./open/code/*/*.txt\"):\n",
    "    with open(os.path.join(os.getcwd(), i), 'r') as f:\n",
    "        text = f.read()\n",
    "        #무작위 행 셔플\n",
    "        csv_tr.append(text)\n",
    "        csv_tr2.append(text)\n",
    "        similarity.append(-1)\n",
    "csv_tr = sklearn.utils.shuffle(csv_tr, random_state = 42)"
   ]
  },
  {
   "cell_type": "code",
   "execution_count": 6,
   "metadata": {},
   "outputs": [
    {
     "data": {
      "text/plain": [
       "\"X = int(input())\\n\\nif X >= 400 and X < 600:\\n    print('8')\\nelif X >= 600 and X < 800:\\n    print('7')\\nelif X >= 800 and X < 1000:\\n    print('6')\\nelif X >= 1000 and X < 1200:\\n    print('5')\\nelif X >= 1200 and X < 1400:\\n    print('4')\\nelif X >= 1400 and X < 1600:\\n    print('3')\\nelif X >= 1600 and X < 1800:\\n    print('2')\\nelif X >= 1800 and X < 2000:\\n    print('1')\""
      ]
     },
     "execution_count": 6,
     "metadata": {},
     "output_type": "execute_result"
    }
   ],
   "source": [
    "csv_tr[0]"
   ]
  },
  {
   "cell_type": "code",
   "execution_count": 7,
   "metadata": {},
   "outputs": [],
   "source": [
    "# DF 생성\n",
    "code_csv = pd.DataFrame(zip(csv_tr, csv_tr2,similarity),\n",
    "                        columns=['code1', 'code2','similarity'])\n",
    "#code_csv.to_csv(\"code_csv.csv\")"
   ]
  },
  {
   "cell_type": "code",
   "execution_count": null,
   "metadata": {},
   "outputs": [],
   "source": [
    "'''\n",
    "# Load Train / Test dataset\n",
    "# train, test 선언\n",
    "train = code_csv\n",
    "train.head()\n",
    "train.info()\n",
    "'''"
   ]
  },
  {
   "cell_type": "code",
   "execution_count": null,
   "metadata": {},
   "outputs": [],
   "source": [
    "'''test = pd.read_csv(\"./open/test.csv\")\n",
    "test.info()\n",
    "test.head()\n",
    "'''"
   ]
  },
  {
   "cell_type": "code",
   "execution_count": 8,
   "metadata": {},
   "outputs": [],
   "source": [
    "# %% define Model\n",
    "\n",
    "# TF-idf행렬의 크기\n",
    "tfidV = TfidfVectorizer()"
   ]
  },
  {
   "cell_type": "code",
   "execution_count": 9,
   "metadata": {},
   "outputs": [],
   "source": [
    "tfidV_matrix1 = tfidV.fit(code_csv['code1'])  # fit(train['code1'])\n",
    "tfidV_matrix2 = tfidV.fit(code_csv['code2'])\n"
   ]
  },
  {
   "cell_type": "code",
   "execution_count": 10,
   "metadata": {},
   "outputs": [],
   "source": [
    "test = pd.read_csv(\"./open/test.csv\")"
   ]
  },
  {
   "cell_type": "code",
   "execution_count": 11,
   "metadata": {},
   "outputs": [
    {
     "name": "stdout",
     "output_type": "stream",
     "text": [
      "<class 'pandas.core.frame.DataFrame'>\n",
      "RangeIndex: 179700 entries, 0 to 179699\n",
      "Data columns (total 3 columns):\n",
      " #   Column   Non-Null Count   Dtype \n",
      "---  ------   --------------   ----- \n",
      " 0   pair_id  179700 non-null  int64 \n",
      " 1   code1    179700 non-null  object\n",
      " 2   code2    179700 non-null  object\n",
      "dtypes: int64(1), object(2)\n",
      "memory usage: 4.1+ MB\n"
     ]
    }
   ],
   "source": [
    "test.info()"
   ]
  },
  {
   "cell_type": "code",
   "execution_count": 12,
   "metadata": {},
   "outputs": [
    {
     "data": {
      "text/html": [
       "<div>\n",
       "<style scoped>\n",
       "    .dataframe tbody tr th:only-of-type {\n",
       "        vertical-align: middle;\n",
       "    }\n",
       "\n",
       "    .dataframe tbody tr th {\n",
       "        vertical-align: top;\n",
       "    }\n",
       "\n",
       "    .dataframe thead th {\n",
       "        text-align: right;\n",
       "    }\n",
       "</style>\n",
       "<table border=\"1\" class=\"dataframe\">\n",
       "  <thead>\n",
       "    <tr style=\"text-align: right;\">\n",
       "      <th></th>\n",
       "      <th>pair_id</th>\n",
       "      <th>code1</th>\n",
       "      <th>code2</th>\n",
       "    </tr>\n",
       "  </thead>\n",
       "  <tbody>\n",
       "    <tr>\n",
       "      <th>0</th>\n",
       "      <td>1</td>\n",
       "      <td>def main():\\n  s = input()\\n  if s.count('a') ...</td>\n",
       "      <td>N,K = map(int,input().split())\\nA = list(map(i...</td>\n",
       "    </tr>\n",
       "    <tr>\n",
       "      <th>1</th>\n",
       "      <td>2</td>\n",
       "      <td>N,K,Q = map(int,input().split())\\npoints = [0]...</td>\n",
       "      <td>N, K, Q = map(int,input().split())\\n\\nif K &gt; Q...</td>\n",
       "    </tr>\n",
       "    <tr>\n",
       "      <th>2</th>\n",
       "      <td>3</td>\n",
       "      <td>from itertools import combinations\\nn = int(in...</td>\n",
       "      <td>s = input()\\nt = input()\\nlength_s = len(s)\\nl...</td>\n",
       "    </tr>\n",
       "    <tr>\n",
       "      <th>3</th>\n",
       "      <td>4</td>\n",
       "      <td>a,b=map(int,input().split())\\n\\nans1=a+b\\nans2...</td>\n",
       "      <td>a, b, c, d = map(int,input().split())\\n\\nif a ...</td>\n",
       "    </tr>\n",
       "    <tr>\n",
       "      <th>4</th>\n",
       "      <td>5</td>\n",
       "      <td>S = input()\\nK = int(input())\\n\\nind = -1\\nfor...</td>\n",
       "      <td>H, W = map(int, input().split())\\ngrid = []\\nf...</td>\n",
       "    </tr>\n",
       "  </tbody>\n",
       "</table>\n",
       "</div>"
      ],
      "text/plain": [
       "   pair_id                                              code1  \\\n",
       "0        1  def main():\\n  s = input()\\n  if s.count('a') ...   \n",
       "1        2  N,K,Q = map(int,input().split())\\npoints = [0]...   \n",
       "2        3  from itertools import combinations\\nn = int(in...   \n",
       "3        4  a,b=map(int,input().split())\\n\\nans1=a+b\\nans2...   \n",
       "4        5  S = input()\\nK = int(input())\\n\\nind = -1\\nfor...   \n",
       "\n",
       "                                               code2  \n",
       "0  N,K = map(int,input().split())\\nA = list(map(i...  \n",
       "1  N, K, Q = map(int,input().split())\\n\\nif K > Q...  \n",
       "2  s = input()\\nt = input()\\nlength_s = len(s)\\nl...  \n",
       "3  a, b, c, d = map(int,input().split())\\n\\nif a ...  \n",
       "4  H, W = map(int, input().split())\\ngrid = []\\nf...  "
      ]
     },
     "execution_count": 12,
     "metadata": {},
     "output_type": "execute_result"
    }
   ],
   "source": [
    "test.head()"
   ]
  },
  {
   "cell_type": "code",
   "execution_count": 13,
   "metadata": {},
   "outputs": [
    {
     "name": "stdout",
     "output_type": "stream",
     "text": [
      "행렬의 크기:  (179700, 44705)\n",
      "행렬의 크기:  (179700, 44705)\n"
     ]
    }
   ],
   "source": [
    "tfidV_test1 = tfidV.transform(test['code1'])  # fit(train['code1'])\n",
    "tfidV_test2 = tfidV.transform(test['code2'])\n",
    "\n",
    "print(\"행렬의 크기: \", tfidV_test1.shape)\n",
    "print(\"행렬의 크기: \", tfidV_test2.shape)"
   ]
  },
  {
   "cell_type": "code",
   "execution_count": 14,
   "metadata": {},
   "outputs": [],
   "source": [
    "preds = []\n",
    "for code1_vec, code2_vec in zip(tfidV_test1, tfidV_test2):\n",
    "    preds.append(cosine_similarity(code1_vec, code2_vec))"
   ]
  },
  {
   "cell_type": "code",
   "execution_count": 15,
   "metadata": {},
   "outputs": [
    {
     "data": {
      "text/plain": [
       "179700"
      ]
     },
     "execution_count": 15,
     "metadata": {},
     "output_type": "execute_result"
    }
   ],
   "source": [
    "preds = np.reshape(preds, len(preds))\n",
    "len(preds)"
   ]
  },
  {
   "cell_type": "code",
   "execution_count": 36,
   "metadata": {},
   "outputs": [
    {
     "name": "stdout",
     "output_type": "stream",
     "text": [
      "<class 'pandas.core.frame.DataFrame'>\n",
      "RangeIndex: 179700 entries, 0 to 179699\n",
      "Data columns (total 2 columns):\n",
      " #   Column   Non-Null Count   Dtype\n",
      "---  ------   --------------   -----\n",
      " 0   pair_id  179700 non-null  int64\n",
      " 1   similar  179700 non-null  int64\n",
      "dtypes: int64(2)\n",
      "memory usage: 2.7 MB\n"
     ]
    }
   ],
   "source": [
    "submission = pd.read_csv('./open/sample_submission.csv')\n",
    "#submission = submission.iloc[:45588]\n",
    "submission.info()"
   ]
  },
  {
   "cell_type": "code",
   "execution_count": 37,
   "metadata": {},
   "outputs": [],
   "source": [
    "submission['similar'] = preds"
   ]
  },
  {
   "cell_type": "code",
   "execution_count": 44,
   "metadata": {},
   "outputs": [],
   "source": [
    "threshold = 0.5\n",
    "submission['similar'] = np.where(submission['similar'] > threshold, 1, 0)"
   ]
  },
  {
   "cell_type": "code",
   "execution_count": 49,
   "metadata": {},
   "outputs": [
    {
     "data": {
      "text/plain": [
       "0    164250\n",
       "1     15450\n",
       "Name: similar, dtype: int64"
      ]
     },
     "execution_count": 49,
     "metadata": {},
     "output_type": "execute_result"
    }
   ],
   "source": [
    "submission['similar'].value_counts()"
   ]
  },
  {
   "cell_type": "code",
   "execution_count": 51,
   "metadata": {},
   "outputs": [],
   "source": [
    "submission.to_csv('./svalue_countsion.csv', index=False)"
   ]
  },
  {
   "cell_type": "code",
   "execution_count": null,
   "metadata": {},
   "outputs": [],
   "source": []
  },
  {
   "cell_type": "code",
   "execution_count": null,
   "metadata": {},
   "outputs": [],
   "source": []
  },
  {
   "cell_type": "code",
   "execution_count": null,
   "metadata": {},
   "outputs": [],
   "source": []
  },
  {
   "cell_type": "code",
   "execution_count": null,
   "metadata": {},
   "outputs": [],
   "source": []
  },
  {
   "cell_type": "code",
   "execution_count": null,
   "metadata": {},
   "outputs": [],
   "source": []
  },
  {
   "cell_type": "code",
   "execution_count": null,
   "metadata": {},
   "outputs": [],
   "source": [
    "# Define Model (CountVectorizer+CosineSimilarity)\n",
    "class BaselineModel():\n",
    "    def __init__(self, threshold=0.5):\n",
    "        super(BaselineModel, self).__init__()\n",
    "        self.threshold = threshold  # 유사도 임계값\n",
    "        self.TfidfVectorizer = TfidfVectorizer()\n",
    "\n",
    "    def fit(self, code1, code2):\n",
    "        # 입력 받은 코드 쌍으로 부터 vectorizer를 vector화\n",
    "        code1 = self.TfidfVectorizer.fit_transform(code1)\n",
    "        code2 = self.TfidfVectorizer.fit_transform(code2)\n",
    "        print('Done1.')\n",
    "\n",
    "    def predict_proba(self, code1, code2):\n",
    "\n",
    "        # 입력 받은 코드 쌍으로 부터 vectorizer를 vector화\n",
    "        code1_vecs = self.TfidfVectorizer.fit_transform(code1)\n",
    "        code2_vecs = self.TfidfVectorizer.fit_transform(code2)\n",
    "\n",
    "        preds = []\n",
    "\n",
    "        # 각각의 코드 쌍(=벡터 쌍)으로부터 cosine-similarity를 구합니다.\n",
    "        for code1_vec, code2_vec in zip(code1_vecs, code2_vecs):\n",
    "            preds.append(cosine_similarity(code1_vec, code2_vec))\n",
    "\n",
    "        # preds = np.reshape(preds, len(preds))\n",
    "        preds = np.reshape(preds, len(preds))\n",
    "\n",
    "        print('Done2.')\n",
    "\n",
    "        # 각 코드 쌍들의 유사도를 반환\n",
    "        return preds\n",
    "\n",
    "    def predict(self, code1, code2):\n",
    "        preds = self.predict_proba(code1, code2)\n",
    "\n",
    "        # cosine-similarity (유사도)가 설정한 임계값(Threshold=0.5)보다 높다면 유사하다 : 1, 아니라면 유사하지 않다 : 0\n",
    "        preds = np.where(preds > self.threshold, 1, 0)\n",
    "\n",
    "        # 각 코드 쌍들의 유사도를 Threshold를 통해 유사함을 판별 (이진분류)\n",
    "        return preds"
   ]
  },
  {
   "cell_type": "code",
   "execution_count": null,
   "metadata": {},
   "outputs": [],
   "source": [
    "# Model(Vectorizer) Fit\n",
    "\n",
    "\n",
    "# 모델 선언\n",
    "model = BaselineModel(threshold=0.5)\n",
    "\n",
    "# 학습 코드 쌍들로부터 Model을 Fitting\n",
    "model_csv = model.fit(train['code1'], train['code2'])\n",
    "\n",
    "\n",
    "# Inference\n",
    "# 모델 추론\n",
    "preds = model.predict(test['code1'], test['code2'])\n",
    "# Submission"
   ]
  },
  {
   "cell_type": "code",
   "execution_count": null,
   "metadata": {},
   "outputs": [],
   "source": [
    "submission = pd.read_csv('./open/sample_submission.csv')\n",
    "submission['similar'] = preds\n",
    "submission.to_csv('./submission.csv', index=False)"
   ]
  }
 ],
 "metadata": {
  "anaconda-cloud": {},
  "kernelspec": {
   "display_name": "Python 3 (ipykernel)",
   "language": "python",
   "name": "python3"
  },
  "language_info": {
   "codemirror_mode": {
    "name": "ipython",
    "version": 3
   },
   "file_extension": ".py",
   "mimetype": "text/x-python",
   "name": "python",
   "nbconvert_exporter": "python",
   "pygments_lexer": "ipython3",
   "version": "3.8.13"
  }
 },
 "nbformat": 4,
 "nbformat_minor": 4
}
