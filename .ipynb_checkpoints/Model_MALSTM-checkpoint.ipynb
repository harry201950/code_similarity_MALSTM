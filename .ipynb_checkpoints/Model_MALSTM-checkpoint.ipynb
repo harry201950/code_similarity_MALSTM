{
 "cells": [
  {
   "cell_type": "markdown",
   "id": "d44e5e1f-6bc6-429c-8666-f3d53b939cf4",
   "metadata": {
    "id": "56ef492d"
   },
   "source": [
    "# 모델"
   ]
  },
  {
   "cell_type": "code",
   "execution_count": null,
   "id": "a96d026d-5112-423d-861c-0241a77dc515",
   "metadata": {
    "ExecuteTime": {
     "end_time": "2022-06-02T10:42:57.581552Z",
     "start_time": "2022-06-02T10:42:57.574555Z"
    },
    "id": "d9b62779"
   },
   "outputs": [],
   "source": [
    "# problem 파일 경로 Desktop/project/code_similarity/open/code\n",
    "\n",
    "# problem 폴더 안 예제 코드 확장자명 변경\n",
    "import os\n",
    "from tqdm import tqdm\n",
    "import sys\n",
    "import tensorflow as tf\n",
    "import json\n",
    "import datetime\n",
    "\n",
    "# .txt 병합\n",
    "import pandas as pd\n",
    "import numpy as np\n",
    "import sklearn\n",
    "\n",
    "#keras model import\n",
    "import keras\n",
    "import matplotlib.pyplot as plt"
   ]
  },
  {
   "cell_type": "code",
   "execution_count": null,
   "id": "e152850c-691e-4cc0-8f13-64983e050680",
   "metadata": {
    "ExecuteTime": {
     "end_time": "2022-06-02T10:42:58.272497Z",
     "start_time": "2022-06-02T10:42:58.257509Z"
    },
    "id": "9b2358aa"
   },
   "outputs": [],
   "source": [
    "from sklearn.model_selection import train_test_split\n",
    "from tensorflow.keras.preprocessing.sequence import pad_sequences\n",
    "from tensorflow.keras.preprocessing.text import Tokenizer\n",
    "from tensorflow.keras.models import Model\n",
    "from keras import Input, layers\n",
    "from tensorflow.keras.layers import Embedding, LSTM, Input, Lambda,Dropout\n",
    "from tensorflow.keras.callbacks import EarlyStopping\n",
    "from keras import backend as K\n",
    "from tensorflow.keras.optimizers import Adam,RMSprop\n",
    "#model save & load\n",
    "from keras.models import load_model"
   ]
  },
  {
   "cell_type": "code",
   "execution_count": null,
   "id": "00f3f3d8-0f4b-4c48-92f4-5ef171b169f1",
   "metadata": {
    "ExecuteTime": {
     "end_time": "2022-06-02T10:43:35.534290Z",
     "start_time": "2022-06-02T10:43:31.149335Z"
    },
    "id": "07bf2b97"
   },
   "outputs": [],
   "source": [
    "train_data = pd.read_csv(\"./drive/MyDrive/code_similarity/data/open_code_train.csv\", index_col = 0, encoding='utf-8')"
   ]
  },
  {
   "cell_type": "code",
   "execution_count": null,
   "id": "e4760e41-0597-4db5-80ad-c0bcedf3ecbc",
   "metadata": {
    "ExecuteTime": {
     "end_time": "2022-06-02T10:43:35.614173Z",
     "start_time": "2022-06-02T10:43:35.537215Z"
    },
    "id": "473937ad"
   },
   "outputs": [],
   "source": [
    "train_data.drop(['c1_problem_name','c2_problem_name'], axis = 1, inplace= True)\n",
    "train_data"
   ]
  },
  {
   "cell_type": "code",
   "execution_count": null,
   "id": "f360a348-7cf3-454d-9c86-92249e10d12a",
   "metadata": {
    "ExecuteTime": {
     "end_time": "2022-06-02T10:43:40.766433Z",
     "start_time": "2022-06-02T10:43:40.749448Z"
    },
    "id": "3124754c"
   },
   "outputs": [],
   "source": [
    "print(type(train_data['code1']))\n",
    "print(type(train_data['code2']))\n",
    "print(train_data.head())"
   ]
  },
  {
   "cell_type": "code",
   "execution_count": null,
   "id": "833e2f0b-2813-4802-8ae0-c3671be1d36e",
   "metadata": {
    "ExecuteTime": {
     "end_time": "2022-06-02T10:44:22.976445Z",
     "start_time": "2022-06-02T10:44:21.269037Z"
    },
    "id": "975e0aff"
   },
   "outputs": [],
   "source": [
    "test_data = pd.read_csv(\"./drive/MyDrive/code_similarity/data/open_code_test.csv\", index_col = 0, encoding = 'utf-8')"
   ]
  },
  {
   "cell_type": "code",
   "execution_count": null,
   "id": "2600667d-e916-4cf3-b386-41e33555a451",
   "metadata": {
    "ExecuteTime": {
     "end_time": "2022-06-02T10:44:35.507744Z",
     "start_time": "2022-06-02T10:44:35.484738Z"
    },
    "id": "e7e1c492"
   },
   "outputs": [],
   "source": [
    "#test_data = test_data.head()\n",
    "test_data"
   ]
  },
  {
   "cell_type": "code",
   "execution_count": null,
   "id": "485cf5fb-c860-4851-9bf5-f44de981ed1a",
   "metadata": {
    "id": "f8f4b68b"
   },
   "outputs": [],
   "source": []
  },
  {
   "cell_type": "markdown",
   "id": "2005427c-81da-41e7-924d-3e857932d7b8",
   "metadata": {
    "id": "981cd12b"
   },
   "source": [
    "## 토큰화"
   ]
  },
  {
   "cell_type": "code",
   "execution_count": null,
   "id": "193c3ac5-f8d7-4c65-be88-1800cdd4d187",
   "metadata": {
    "ExecuteTime": {
     "end_time": "2022-06-02T10:45:01.386062Z",
     "start_time": "2022-06-02T10:45:01.371074Z"
    },
    "id": "94b642dc"
   },
   "outputs": [],
   "source": [
    "tokenizer = Tokenizer() # Tokenizer 객체 생성"
   ]
  },
  {
   "cell_type": "code",
   "execution_count": null,
   "id": "5d2b4d14-d2ed-4a00-b94d-e950bf1936b9",
   "metadata": {
    "ExecuteTime": {
     "end_time": "2022-06-02T10:46:05.248769Z",
     "start_time": "2022-06-02T10:45:02.649995Z"
    },
    "id": "6ea8c380"
   },
   "outputs": [],
   "source": [
    "tokenizer.fit_on_texts(train_data['code1']) # 단어 인덱스 구축\n",
    "tokenizer.fit_on_texts(train_data['code2']) # 단어 인덱스 구축"
   ]
  },
  {
   "cell_type": "code",
   "execution_count": null,
   "id": "cd75beb8-a4c5-47ca-acbb-d7995a4cb9f4",
   "metadata": {
    "ExecuteTime": {
     "end_time": "2022-06-02T10:46:51.684340Z",
     "start_time": "2022-06-02T10:46:05.248769Z"
    },
    "id": "0656df16"
   },
   "outputs": [],
   "source": [
    "sequences_1 = tokenizer.texts_to_sequences(train_data['code1']) # 문자열을 정수 인덱스의 리스트로 변환한다. \n",
    "sequences_2 = tokenizer.texts_to_sequences(train_data['code2'])"
   ]
  },
  {
   "cell_type": "code",
   "execution_count": null,
   "id": "7687d75c-a33b-49da-a080-c5e0c9d7cf7a",
   "metadata": {
    "ExecuteTime": {
     "end_time": "2022-06-02T10:46:51.699942Z",
     "start_time": "2022-06-02T10:46:51.684340Z"
    },
    "id": "cc2c799c"
   },
   "outputs": [],
   "source": [
    "train_val = train_data['similar']\n",
    "train_val.head()"
   ]
  },
  {
   "cell_type": "code",
   "execution_count": null,
   "id": "60a98d59-d8ca-4e28-aa0b-ff69f68172a3",
   "metadata": {
    "ExecuteTime": {
     "end_time": "2022-06-02T10:46:51.715566Z",
     "start_time": "2022-06-02T10:46:51.699942Z"
    },
    "id": "ed12c3a2"
   },
   "outputs": [],
   "source": [
    "vocab_size = len(tokenizer.word_index) + 1 # 패딩을 고려하여 +1\n",
    "print(vocab_size)"
   ]
  },
  {
   "cell_type": "code",
   "execution_count": null,
   "id": "89741f7a-f293-4459-ba17-2a0027c0a715",
   "metadata": {
    "ExecuteTime": {
     "end_time": "2022-06-02T10:46:52.177323Z",
     "start_time": "2022-06-02T10:46:51.715566Z"
    },
    "id": "8d5dd386"
   },
   "outputs": [],
   "source": [
    "#가장 긴 sequence의 길이\n",
    "MAX_SEQUENCE_LENGTH = max([len(seq) for seq in sequences_1 + sequences_2])\n",
    "ABR__SEQUENCE_LENGTH = round(sum(map(len, sequences_1))/len(sequences_1))\n",
    "print('코드의 최대 길이 : {}'.format(max([len(seq) for seq in sequences_1 + sequences_2])))\n",
    "print('코드의 평균길이 : {}'.format(sum(map(len, sequences_1))/len(sequences_1)))\n",
    "print('코드의 평균길이 : %d'% ABR__SEQUENCE_LENGTH)"
   ]
  },
  {
   "cell_type": "code",
   "execution_count": null,
   "id": "ef213300-8ac7-4f8e-b303-9d14abfb4a8e",
   "metadata": {
    "ExecuteTime": {
     "end_time": "2022-06-02T10:47:00.520474Z",
     "start_time": "2022-06-02T10:46:52.180298Z"
    },
    "id": "984236f8"
   },
   "outputs": [],
   "source": [
    "X_train_1 = pad_sequences(sequences_1, maxlen=MAX_SEQUENCE_LENGTH)\n",
    "X_train_2 = pad_sequences(sequences_2, maxlen=MAX_SEQUENCE_LENGTH)\n",
    "print(X_train_1.shape)\n",
    "print(X_train_2.shape)\n",
    "print(type(X_train_2))"
   ]
  },
  {
   "cell_type": "code",
   "execution_count": null,
   "id": "82a7d479-3b30-4c10-acbf-bda451e776b2",
   "metadata": {
    "ExecuteTime": {
     "end_time": "2022-06-02T10:47:03.474613Z",
     "start_time": "2022-06-02T10:47:00.520474Z"
    },
    "id": "f3dbaec7-3df8-4016-896a-722950baed3a"
   },
   "outputs": [],
   "source": [
    "# Model variables\n",
    "batch_size = 512\n",
    "epoch = 150\n",
    "vocab_size = vocab_size\n",
    "MAX_SEQUENCE_LENGTH = MAX_SEQUENCE_LENGTH\n",
    "ABR__SEQUENCE_LENGTH = ABR__SEQUENCE_LENGTH\n",
    "vocab_size = vocab_size\n",
    "emb_output_dim = 64\n",
    "DROPOUT_RATIO = 0.25\n",
    "\n",
    "def exponent_neg_manhattan_distance(left, right):\n",
    "    ''' Helper function for the similarity estimate of the LSTMs outputs'''\n",
    "    return K.exp(-K.sum(K.abs(left-right), axis=1, keepdims=True))"
   ]
  },
  {
   "cell_type": "code",
   "execution_count": null,
   "id": "3b78b48b-59ec-4852-adce-adb5b97bd3bf",
   "metadata": {
    "ExecuteTime": {
     "end_time": "2022-06-02T10:47:03.474613Z",
     "start_time": "2022-06-02T10:47:00.520474Z"
    },
    "id": "b13766f4-224e-48c0-aa73-4697cd385c2b"
   },
   "outputs": [],
   "source": [
    "# The visible layer\n",
    "input_tensor1 = layers.Input(shape= (128,), dtype = 'int32', name = 'code1')\n",
    "input_tensor2 = layers.Input(shape= (128,), dtype = 'int32', name = 'code2')\n",
    "\n",
    "# Embedding layers\n",
    "embedding_layer = layers.Embedding(input_dim = vocab_size,\n",
    "                                   output_dim = emb_output_dim,\n",
    "                                   input_length = MAX_SEQUENCE_LENGTH,\n",
    "                                   mask_zero = True,\n",
    "                                   trainable = False)\n",
    "\n",
    "# Embedded of the inputs\n",
    "encoded_1 = embedding_layer(input_tensor1)\n",
    "encoded_2 = embedding_layer(input_tensor2)\n",
    "\n",
    "# define lstm for sentence encode\n",
    "encoded_LSTM1 = layers.LSTM(64, activation='tanh')(encoded_1)\n",
    "encoded_LSTM2 = layers.LSTM(64, activation='tanh')(encoded_2)\n",
    "\n",
    "#dropout layer\n",
    "drop1 = layers.Dropout(DROPOUT_RATIO)(encoded_LSTM1)\n",
    "drop2 = layers.Dropout(DROPOUT_RATIO)(encoded_LSTM2)\n",
    "\n",
    "#함수형 API 모델 을 구성할 때 임의 의 Lambda표현식을 사용할 수 있도록 레이어 생성\n",
    "main_malstm_distance = layers.Lambda(lambda x: exponent_neg_manhattan_distance(x[0], x[1]), output_shape=lambda x: (x[0][0], 1))([drop1,drop2])\n",
    "\n",
    "\n",
    "#model\n",
    "malstm = Model([input_tensor1, input_tensor2], outputs = main_malstm_distance)\n",
    "\n",
    "#model compile \n",
    "malstm.compile(loss='mean_squared_logarithmic_error', optimizer=RMSprop(learning_rate=0.001), metrics=['accuracy'])"
   ]
  },
  {
   "cell_type": "code",
   "execution_count": null,
   "id": "0a2d53e2-875d-43bb-905f-c264d4a5a3f6",
   "metadata": {
    "ExecuteTime": {
     "end_time": "2022-06-02T10:47:03.505802Z",
     "start_time": "2022-06-02T10:47:03.474613Z"
    },
    "id": "c742e411"
   },
   "outputs": [],
   "source": [
    "malstm.summary()"
   ]
  },
  {
   "cell_type": "code",
   "execution_count": null,
   "id": "9d4eaeba-8451-4dad-be76-46a04b6c346c",
   "metadata": {
    "ExecuteTime": {
     "end_time": "2022-06-02T10:47:03.521797Z",
     "start_time": "2022-06-02T10:47:03.508801Z"
    },
    "id": "457c7497"
   },
   "outputs": [],
   "source": [
    "# early_stop\n",
    "early_stopping = EarlyStopping(monitor=\"val_loss\",patience = 5, mode=\"min\")"
   ]
  },
  {
   "cell_type": "code",
   "execution_count": null,
   "id": "4c5062a0-0a0c-4867-9d6c-0438b5b581ac",
   "metadata": {
    "ExecuteTime": {
     "start_time": "2022-06-02T10:45:43.185Z"
    },
    "id": "e19b3a24",
    "tags": []
   },
   "outputs": [],
   "source": [
    "history = malstm.fit([X_train_1,X_train_2],\n",
    "                   train_val,\n",
    "                   verbose=1,\n",
    "                   callbacks=[early_stopping],\n",
    "                   validation_split=0.2,\n",
    "                   epochs=150 ,\n",
    "                   batch_size = batch_size)"
   ]
  },
  {
   "cell_type": "code",
   "execution_count": null,
   "id": "92c1e370-7875-4277-8143-d947c7057c4f",
   "metadata": {
    "ExecuteTime": {
     "start_time": "2022-06-02T10:45:47.814Z"
    },
    "id": "ced8be2a"
   },
   "outputs": [],
   "source": [
    "#model save\n",
    "malstm.save('./drive/MyDrive/code_similarity/model_smilarity_MSLE_128_RE')"
   ]
  },
  {
   "cell_type": "code",
   "execution_count": null,
   "id": "dd2b5b9b-9ae8-4ad3-ac93-6c1341e99920",
   "metadata": {
    "id": "0af49153"
   },
   "outputs": [],
   "source": [
    "# Plot accuracy\n",
    "plt.plot(history.history['accuracy'])\n",
    "plt.plot(history.history['val_accuracy'])\n",
    "plt.title('Model Accuracy')\n",
    "plt.ylabel('Accuracy')\n",
    "plt.xlabel('Epoch')\n",
    "plt.legend(['Train', 'Validation'], loc='upper left')\n",
    "plt.show()"
   ]
  },
  {
   "cell_type": "code",
   "execution_count": null,
   "id": "2420bdc8-eeb8-45a4-a594-1c3b0438c68d",
   "metadata": {
    "id": "dc4930e5"
   },
   "outputs": [],
   "source": [
    "# Plot loss\n",
    "plt.plot(history.history['loss'])\n",
    "plt.plot(history.history['val_loss'])\n",
    "plt.title('Model Loss')\n",
    "plt.ylabel('Loss')\n",
    "plt.xlabel('Epoch')\n",
    "plt.legend(['Train', 'Validation'], loc='upper right')\n",
    "plt.show()"
   ]
  },
  {
   "cell_type": "code",
   "execution_count": null,
   "id": "56c6553f-1559-44a5-84c5-bbfe569da511",
   "metadata": {
    "id": "21447f22"
   },
   "outputs": [],
   "source": [
    "#test data 정수\n",
    "tokenizer.fit_on_texts(test_data['code1']) # 단어 인덱스 구축\n",
    "tokenizer.fit_on_texts(test_data['code2']) # 단어 인덱스 구축\n",
    "\n",
    "test_sequences_1 = tokenizer.texts_to_sequences(test_data['code1']) # 문자열을 정수 인덱스의 리스트로 변환한다. \n",
    "test_sequences_2 = tokenizer.texts_to_sequences(test_data['code2'])\n",
    "\n",
    "X_test_1 = pad_sequences(test_sequences_1, maxlen=128)\n",
    "X_test_2 = pad_sequences(test_sequences_2, maxlen=128)\n",
    "\n",
    "print(X_test_1.shape)\n",
    "print(X_test_2.shape)\n",
    "print(type(X_test_1))"
   ]
  },
  {
   "cell_type": "code",
   "execution_count": null,
   "id": "33bae067-c801-4d84-881d-d24a581fe304",
   "metadata": {
    "id": "1bbfa2ba"
   },
   "outputs": [],
   "source": [
    "model = load_model('./drive/MyDrive/code_similarity/model_smilarity_MSLE_128')"
   ]
  },
  {
   "cell_type": "code",
   "execution_count": null,
   "id": "e381ed34-c490-4a0b-b811-5341af27a900",
   "metadata": {
    "id": "8c624afd"
   },
   "outputs": [],
   "source": [
    "# 모델 추론\n",
    "preds = model.predict([X_test_1, X_test_2])"
   ]
  },
  {
   "cell_type": "code",
   "execution_count": null,
   "id": "535e4993-2164-4199-bc68-c160763ce6c2",
   "metadata": {
    "id": "db16820b"
   },
   "outputs": [],
   "source": [
    "#preds 값 확인\n",
    "preds[:10]"
   ]
  },
  {
   "cell_type": "code",
   "execution_count": null,
   "id": "84d37131-2a38-4578-af21-e93dcabdcf33",
   "metadata": {
    "id": "04a46027-acd4-4ebf-b2c9-3e4f826c4025"
   },
   "outputs": [],
   "source": [
    "threshold = 0.5\n",
    "preds = np.where(preds >threshold, 1, 0)\n"
   ]
  },
  {
   "cell_type": "code",
   "execution_count": null,
   "id": "17d31a79-0c4b-491f-b70e-15cad0437061",
   "metadata": {
    "id": "e31a05d3-1555-48a7-8c33-2c9ebd092904",
    "tags": []
   },
   "outputs": [],
   "source": [
    "# submission 저장\n",
    "submission = pd.read_csv('./drive/MyDrive/code_similarity/data/submission.csv')\n",
    "submission['similar'] = preds\n",
    "print(submission['similar'].value_counts())\n",
    "submission.to_csv('./drive/MyDrive/code_similarity/data/submission.csv', index=False)"
   ]
  }
 ],
 "metadata": {
  "kernelspec": {
   "display_name": "Python 3 (ipykernel)",
   "language": "python",
   "name": "python3"
  },
  "language_info": {
   "codemirror_mode": {
    "name": "ipython",
    "version": 3
   },
   "file_extension": ".py",
   "mimetype": "text/x-python",
   "name": "python",
   "nbconvert_exporter": "python",
   "pygments_lexer": "ipython3",
   "version": "3.8.13"
  }
 },
 "nbformat": 4,
 "nbformat_minor": 5
}
