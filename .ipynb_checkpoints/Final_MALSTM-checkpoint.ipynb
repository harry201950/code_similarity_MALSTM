{
 "cells": [
  {
   "cell_type": "markdown",
   "id": "0291cd5b",
   "metadata": {
    "id": "0291cd5b"
   },
   "source": [
    "# Code similarity AI"
   ]
  },
  {
   "cell_type": "code",
   "execution_count": null,
   "id": "Gv7KU-TLhyaa",
   "metadata": {
    "id": "Gv7KU-TLhyaa",
    "tags": []
   },
   "outputs": [],
   "source": [
    "from google.colab import drive\n",
    "drive.mount('/content/drive')"
   ]
  },
  {
   "cell_type": "markdown",
   "id": "b2b2de99",
   "metadata": {
    "id": "b2b2de99"
   },
   "source": [
    "# open/code 전처리"
   ]
  },
  {
   "cell_type": "markdown",
   "id": "97ffbe96",
   "metadata": {
    "id": "97ffbe96",
    "tags": []
   },
   "source": [
    "# train 데이터 생성"
   ]
  },
  {
   "cell_type": "code",
   "execution_count": null,
   "id": "25ac5348",
   "metadata": {
    "ExecuteTime": {
     "end_time": "2022-06-02T10:35:11.000823Z",
     "start_time": "2022-06-02T10:35:10.677688Z"
    },
    "id": "25ac5348"
   },
   "outputs": [],
   "source": [
    "dataset = pd.read_csv('./open_code_종합.csv', index_col=0)"
   ]
  },
  {
   "cell_type": "code",
   "execution_count": null,
   "id": "b894eb21",
   "metadata": {
    "ExecuteTime": {
     "end_time": "2022-06-02T10:35:37.208433Z",
     "start_time": "2022-06-02T10:35:37.186445Z"
    },
    "id": "b894eb21"
   },
   "outputs": [],
   "source": [
    "train_df = pd.DataFrame(columns = ['code1', 'c1_problem_name', 'code2', 'c2_problem_name', 'similar'])  # 트레인 데이터를 가리키는 빈 데이터 프레임 생성.\n",
    "train_df"
   ]
  },
  {
   "cell_type": "code",
   "execution_count": null,
   "id": "9758f088",
   "metadata": {
    "ExecuteTime": {
     "end_time": "2022-06-02T10:35:51.989333Z",
     "start_time": "2022-06-02T10:35:51.966347Z"
    },
    "id": "9758f088"
   },
   "outputs": [],
   "source": [
    "def make_train_df(dataset_len, df = dataset) :                              # 트레인 데이터를 만드는 make_train_df 함수. 반복작업으로 하는게 좋지만 귀찮아서 만든 조잡한 사용자 정의 함수이다.\n",
    "    result = pd.DataFrame()                                                 # 반환할 데이터 프레임\n",
    "    cnt = 0                                                                 # 반환할 데이터 프레임의 길이.\n",
    "    \n",
    "    while cnt < dataset_len :                                               # 중첩 반복문\n",
    "        df_list = []                                                        # 안쪽의 for문으로 얻은 데이터 프레임을 저장할 df_list\n",
    "        for j in range(10000) :                                             # 10,000번 반복\n",
    "            temp_df = train_df.copy()                                       # train_df의 구조를 복사\n",
    "            sim_num = 0                                                     # 코드 유사성 변수 sim_num\n",
    "            \n",
    "            #r = np.random.randint(1, 301, size = 2)                         # problem 300개 중에 2개 뽑기\n",
    "            \n",
    "            while True :\n",
    "                r = np.random.randint(1, 301, size = 2)                     \n",
    "                \n",
    "                if r[0] != 209 and r[1] != 209 :\n",
    "                    break\n",
    "            \n",
    "            if r[0] == r[1] :                                               # 만약 뽑은 2개가 같으면 유사성 True\n",
    "                sim_num = 1\n",
    "                \n",
    "            if sim_num == 0 and cnt >= dataset_len / 2 :                    # 뽑은 코드 유사성이 False고, 현재 만든 데이터가 전체의 절반이 넘으면 반복\n",
    "                continue                                                    # 이유는 True 데이터가 그만큼 안만들어진다. 대략 10,000개 만들면 40~50개.\n",
    "            \n",
    "            c1 = np.random.choice(df[df['problem_num'] == r[0]]['code'])    # 각자 해당하면 problem 폴더의 랜덤 코드를 뽑는다.\n",
    "            c2 = np.random.choice(df[df['problem_num'] == r[1]]['code']) \n",
    "            \n",
    "            temp_df.loc[0] = c1, r[0], c2, r[1], sim_num                    # 위에서 복사한 형식대로 temp_df를 얻고\n",
    "            \n",
    "            df_list.append(temp_df)                                         # df_list에 temp_df 추가\n",
    "            \n",
    "        cnt += len(df_list)                                                 # cnt에 df_list의 길이 만큼 증가\n",
    "        print(cnt ,end = ' ')                                               # tqdm보다 이게 보기 편할 거 같아서 print(cnt)\n",
    "        res = pd.concat(df_list , axis = 0)                                 # df_list를 데이터프레임으로 만들고\n",
    "        result = pd.concat([result, res], ignore_index = True)              # 최종 반환할 데이터 프레임과 병합\n",
    "        \n",
    "    result = result.sample(frac=1, ignore_index=True)[:dataset_len]         # 반환할 데이터 프레임을 랜덤으로 섞고 반환\n",
    "            \n",
    "    return result"
   ]
  },
  {
   "cell_type": "code",
   "execution_count": null,
   "id": "cff99090",
   "metadata": {
    "ExecuteTime": {
     "end_time": "2022-06-02T10:38:22.604448Z",
     "start_time": "2022-06-02T10:38:22.585466Z"
    },
    "id": "cff99090"
   },
   "outputs": [],
   "source": [
    "train_len = 500000                   # 트레인 길이 조절 \n",
    "\n",
    "train = make_train_df(train_len)"
   ]
  },
  {
   "cell_type": "code",
   "execution_count": null,
   "id": "c9ba75d5",
   "metadata": {
    "ExecuteTime": {
     "end_time": "2022-06-02T10:38:16.924246Z",
     "start_time": "2022-06-02T10:38:16.924246Z"
    },
    "id": "c9ba75d5"
   },
   "outputs": [],
   "source": [
    "train['similar'].value_counts()"
   ]
  },
  {
   "cell_type": "code",
   "execution_count": null,
   "id": "b16df359",
   "metadata": {
    "ExecuteTime": {
     "end_time": "2022-06-02T10:38:16.927245Z",
     "start_time": "2022-06-02T10:38:16.927245Z"
    },
    "id": "b16df359"
   },
   "outputs": [],
   "source": [
    "train.to_csv('./open_code_train.csv')"
   ]
  },
  {
   "cell_type": "code",
   "execution_count": null,
   "id": "fef8fb02",
   "metadata": {
    "ExecuteTime": {
     "end_time": "2022-06-02T10:38:16.930240Z",
     "start_time": "2022-06-02T10:38:16.930240Z"
    },
    "id": "fef8fb02"
   },
   "outputs": [],
   "source": [
    "train"
   ]
  },
  {
   "cell_type": "code",
   "execution_count": null,
   "id": "ce4525d0",
   "metadata": {
    "id": "ce4525d0"
   },
   "outputs": [],
   "source": []
  },
  {
   "cell_type": "markdown",
   "id": "371f7a07",
   "metadata": {
    "id": "371f7a07"
   },
   "source": [
    "# 테스트 파일 전처리"
   ]
  },
  {
   "cell_type": "code",
   "execution_count": null,
   "id": "e5d5905f",
   "metadata": {
    "ExecuteTime": {
     "end_time": "2022-06-02T10:38:31.602573Z",
     "start_time": "2022-06-02T10:38:29.025713Z"
    },
    "id": "e5d5905f"
   },
   "outputs": [],
   "source": [
    "test_df = pd.read_csv('./open/test.csv', encoding='utf-8')"
   ]
  },
  {
   "cell_type": "code",
   "execution_count": null,
   "id": "fc04967b",
   "metadata": {
    "ExecuteTime": {
     "end_time": "2022-06-02T10:38:31.649553Z",
     "start_time": "2022-06-02T10:38:31.604575Z"
    },
    "id": "fc04967b"
   },
   "outputs": [],
   "source": [
    "result_df = pd.DataFrame(columns = test_df.columns)\n",
    "result_df['pair_id'] = test_df['pair_id'].copy()\n",
    "result_df"
   ]
  },
  {
   "cell_type": "code",
   "execution_count": null,
   "id": "ee1d2a58",
   "metadata": {
    "ExecuteTime": {
     "end_time": "2022-06-02T10:38:53.013599Z",
     "start_time": "2022-06-02T10:38:31.652549Z"
    },
    "id": "ee1d2a58"
   },
   "outputs": [],
   "source": [
    "code_list = []\n",
    "\n",
    "for i in tqdm(range(len(test_df))) :\n",
    "    code_str = test_df['code1'][i].split('\\n')\n",
    "    py_code = []\n",
    "    long_annotation = 0\n",
    "    long_str = 0\n",
    "    \n",
    "    for line in code_str :                                     \n",
    "        line = line.rstrip().lstrip()                           \n",
    "                    \n",
    "        # 만약 한 줄 주석으로 시작하면 새로 반복\n",
    "        if line.startswith('#') :\n",
    "            continue\n",
    "        elif line.count('\"\"\"') == 0 and line.startswith('\\\"') and line[1:].endswith('\\\"') : # \"문자열\"\n",
    "            continue  \n",
    "        elif line.count(\"'''\") == 0 and line.startswith(\"\\'\") and line[1:].endswith(\"\\'\") :  # '문자열'\n",
    "            continue\n",
    "         \n",
    "        \n",
    "        # \"\"\"를 찾았을 때\n",
    "        if line.count('\"\"\"') >= 1 : \n",
    "            if line.count('\"\"\"') % 2 == 0 and line.startswith('\"\"\"') and line[3:].endswith('\"\"\"') :\n",
    "                continue\n",
    "            elif line.count(\"'''\") % 2 == 0 and line.startswith(\"'''\") and line[3:].endswith(\"'''\") :\n",
    "                continue  \n",
    "    \n",
    "        if line.count('\"\"\"') % 2 != 0 and long_annotation == 0 and long_str == 0 : \n",
    "            if line.startswith('\"\"\"') :         \n",
    "                long_annotation = 1                          \n",
    "                continue\n",
    "            else : \n",
    "                long_str = 1\n",
    "        elif line.count('\"\"\"') % 2 != 0 and long_annotation == 1 and long_str == 0 :\n",
    "            long_annotation = 0\n",
    "            continue    \n",
    "        elif line.count('\"\"\"') % 2 != 0 and long_annotation == 0 and long_str == 1 :\n",
    "            long_str = 0\n",
    "                    \n",
    "        # '''를 찾았을 때\n",
    "        if line.count(\"'''\") >= 1 : \n",
    "            if line.count('\"\"\"') % 2 == 0 and line.startswith('\"\"\"') and line[3:].endswith('\"\"\"') :\n",
    "                continue\n",
    "            elif line.count(\"'''\") % 2 == 0 and line.startswith(\"'''\") and line[3:].endswith(\"'''\") :\n",
    "                continue  \n",
    "    \n",
    "        if line.count(\"'''\") % 2 != 0 and long_annotation == 0 and long_str == 0 : \n",
    "            if line.startswith(\"'''\") :         \n",
    "                long_annotation = 1                          \n",
    "                continue\n",
    "            else : \n",
    "                long_str = 1\n",
    "        elif line.count(\"'''\") % 2 != 0 and long_annotation == 1 and long_str == 0 :\n",
    "            long_annotation = 0\n",
    "            continue    \n",
    "        elif line.count(\"'''\") % 2 != 0 and long_annotation == 0 and long_str == 1 :\n",
    "            long_str = 0\n",
    "                    \n",
    "                    \n",
    "        if long_annotation == 1 :                              # 위에 조건문을 통해서 긴 줄 주석이 없는데 long_annotation이 1이면 \n",
    "            continue       \n",
    "            \n",
    "        if '#' in line :                                        \n",
    "            if line[:line.index('#')].count('\\'') % 2 == 0 and line[line.index('#'):].count('\\'') % 2 == 0 :\n",
    "                line = line[:line.index('#')]                   \n",
    "                                                                \n",
    "            elif line[:line.index('#')].count('\\\"') % 2 == 0 and line[line.index('#'):].count('\\\"') % 2 == 0 :\n",
    "                line = line[:line.index('#')]                   \n",
    "                        \n",
    "        line = line.replace('\\n','')                            \n",
    "        line = line.replace('    ','\\t')                        \n",
    "                                                                \n",
    "        py_code.append(line) \n",
    "\n",
    "    temp_str = '\\n'.join(py_code)                               \n",
    "    code_list.append(temp_str)\n",
    "    \n",
    "result_df['code1'] = pd.DataFrame(code_list)"
   ]
  },
  {
   "cell_type": "code",
   "execution_count": null,
   "id": "9b8c1ffa",
   "metadata": {
    "id": "9b8c1ffa"
   },
   "outputs": [],
   "source": []
  },
  {
   "cell_type": "code",
   "execution_count": null,
   "id": "8fb833e5",
   "metadata": {
    "ExecuteTime": {
     "end_time": "2022-06-02T10:39:13.959327Z",
     "start_time": "2022-06-02T10:38:53.016605Z"
    },
    "id": "8fb833e5"
   },
   "outputs": [],
   "source": [
    "code_list = []\n",
    "\n",
    "for i in tqdm(range(len(test_df))) :\n",
    "    code_str = test_df['code2'][i].split('\\n')\n",
    "    py_code = []\n",
    "    long_annotation = 0\n",
    "    long_str = 0\n",
    "    \n",
    "    for line in code_str :                                     \n",
    "        line = line.rstrip().lstrip()                           \n",
    "                    \n",
    "        # 만약 한 줄 주석으로 시작하면 새로 반복\n",
    "        if line.startswith('#') :\n",
    "            continue\n",
    "        elif line.count('\"\"\"') == 0 and line.startswith('\\\"') and line[1:].endswith('\\\"') : # \"문자열\"\n",
    "            continue  \n",
    "        elif line.count(\"'''\") == 0 and line.startswith(\"\\'\") and line[1:].endswith(\"\\'\") :  # '문자열'\n",
    "            continue\n",
    "         \n",
    "        \n",
    "        # \"\"\"를 찾았을 때\n",
    "        if line.count('\"\"\"') >= 1 : \n",
    "            if line.count('\"\"\"') % 2 == 0 and line.startswith('\"\"\"') and line[3:].endswith('\"\"\"') :\n",
    "                continue\n",
    "            elif line.count(\"'''\") % 2 == 0 and line.startswith(\"'''\") and line[3:].endswith(\"'''\") :\n",
    "                continue  \n",
    "    \n",
    "        if line.count('\"\"\"') % 2 != 0 and long_annotation == 0 and long_str == 0 : \n",
    "            if line.startswith('\"\"\"') :         \n",
    "                long_annotation = 1                          \n",
    "                continue\n",
    "            else : \n",
    "                long_str = 1\n",
    "        elif line.count('\"\"\"') % 2 != 0 and long_annotation == 1 and long_str == 0 :\n",
    "            long_annotation = 0\n",
    "            continue    \n",
    "        elif line.count('\"\"\"') % 2 != 0 and long_annotation == 0 and long_str == 1 :\n",
    "            long_str = 0\n",
    "                    \n",
    "        # '''를 찾았을 때\n",
    "        if line.count(\"'''\") >= 1 : \n",
    "            if line.count('\"\"\"') % 2 == 0 and line.startswith('\"\"\"') and line[3:].endswith('\"\"\"') :\n",
    "                continue\n",
    "            elif line.count(\"'''\") % 2 == 0 and line.startswith(\"'''\") and line[3:].endswith(\"'''\") :\n",
    "                continue  \n",
    "    \n",
    "        if line.count(\"'''\") % 2 != 0 and long_annotation == 0 and long_str == 0 : \n",
    "            if line.startswith(\"'''\") :         \n",
    "                long_annotation = 1                          \n",
    "                continue\n",
    "            else : \n",
    "                long_str = 1\n",
    "        elif line.count(\"'''\") % 2 != 0 and long_annotation == 1 and long_str == 0 :\n",
    "            long_annotation = 0\n",
    "            continue    \n",
    "        elif line.count(\"'''\") % 2 != 0 and long_annotation == 0 and long_str == 1 :\n",
    "            long_str = 0\n",
    "                    \n",
    "                    \n",
    "        if long_annotation == 1 :                              # 위에 조건문을 통해서 긴 줄 주석이 없는데 long_annotation이 1이면 \n",
    "            continue       \n",
    "            \n",
    "        if '#' in line :                                        \n",
    "            if line[:line.index('#')].count('\\'') % 2 == 0 and line[line.index('#'):].count('\\'') % 2 == 0 :\n",
    "                line = line[:line.index('#')]                   \n",
    "                                                                \n",
    "            elif line[:line.index('#')].count('\\\"') % 2 == 0 and line[line.index('#'):].count('\\\"') % 2 == 0 :\n",
    "                line = line[:line.index('#')]                   \n",
    "                        \n",
    "        line = line.replace('\\n','')                            \n",
    "        line = line.replace('    ','\\t')                        \n",
    "                                                                \n",
    "        py_code.append(line) \n",
    "\n",
    "    temp_str = '\\n'.join(py_code)                               \n",
    "    code_list.append(temp_str)\n",
    "\n",
    "result_df['code2'] = pd.DataFrame(code_list)"
   ]
  },
  {
   "cell_type": "code",
   "execution_count": null,
   "id": "46519ee7",
   "metadata": {
    "ExecuteTime": {
     "end_time": "2022-06-02T10:42:45.617942Z",
     "start_time": "2022-06-02T10:42:40.937408Z"
    },
    "id": "46519ee7"
   },
   "outputs": [],
   "source": [
    "result_df.to_csv('./open_code_test.csv')"
   ]
  },
  {
   "cell_type": "code",
   "execution_count": null,
   "id": "774cd4b2",
   "metadata": {
    "id": "774cd4b2"
   },
   "outputs": [],
   "source": []
  },
  {
   "cell_type": "code",
   "execution_count": null,
   "id": "041aaf07",
   "metadata": {
    "id": "041aaf07"
   },
   "outputs": [],
   "source": []
  },
  {
   "cell_type": "markdown",
   "id": "56ef492d",
   "metadata": {
    "id": "56ef492d"
   },
   "source": [
    "# 모델"
   ]
  },
  {
   "cell_type": "code",
   "execution_count": null,
   "id": "d9b62779",
   "metadata": {
    "ExecuteTime": {
     "end_time": "2022-06-02T10:42:57.581552Z",
     "start_time": "2022-06-02T10:42:57.574555Z"
    },
    "id": "d9b62779"
   },
   "outputs": [],
   "source": [
    "# problem 파일 경로 Desktop/project/code_similarity/open/code\n",
    "\n",
    "# problem 폴더 안 예제 코드 확장자명 변경\n",
    "import os\n",
    "from tqdm import tqdm\n",
    "import sys\n",
    "import tensorflow as tf\n",
    "import json\n",
    "import datetime\n",
    "\n",
    "# .txt 병합\n",
    "import pandas as pd\n",
    "import numpy as np\n",
    "import sklearn\n",
    "\n",
    "#keras model import\n",
    "import keras\n",
    "import matplotlib.pyplot as plt"
   ]
  },
  {
   "cell_type": "code",
   "execution_count": null,
   "id": "9b2358aa",
   "metadata": {
    "ExecuteTime": {
     "end_time": "2022-06-02T10:42:58.272497Z",
     "start_time": "2022-06-02T10:42:58.257509Z"
    },
    "id": "9b2358aa"
   },
   "outputs": [],
   "source": [
    "from sklearn.model_selection import train_test_split\n",
    "from tensorflow.keras.preprocessing.sequence import pad_sequences\n",
    "from tensorflow.keras.preprocessing.text import Tokenizer\n",
    "from tensorflow.keras.models import Model\n",
    "from keras import Input, layers\n",
    "from tensorflow.keras.layers import Embedding, LSTM, Input, Lambda,Dropout\n",
    "from tensorflow.keras.callbacks import EarlyStopping\n",
    "from keras import backend as K\n",
    "from tensorflow.keras.optimizers import Adam,RMSprop\n",
    "#model save & load\n",
    "from keras.models import load_model"
   ]
  },
  {
   "cell_type": "code",
   "execution_count": null,
   "id": "07bf2b97",
   "metadata": {
    "ExecuteTime": {
     "end_time": "2022-06-02T10:43:35.534290Z",
     "start_time": "2022-06-02T10:43:31.149335Z"
    },
    "id": "07bf2b97"
   },
   "outputs": [],
   "source": [
    "train_data = pd.read_csv(\"./drive/MyDrive/code_similarity/data/open_code_train.csv\", index_col = 0, encoding='utf-8')"
   ]
  },
  {
   "cell_type": "code",
   "execution_count": null,
   "id": "473937ad",
   "metadata": {
    "ExecuteTime": {
     "end_time": "2022-06-02T10:43:35.614173Z",
     "start_time": "2022-06-02T10:43:35.537215Z"
    },
    "id": "473937ad"
   },
   "outputs": [],
   "source": [
    "train_data.drop(['c1_problem_name','c2_problem_name'], axis = 1, inplace= True)\n",
    "train_data"
   ]
  },
  {
   "cell_type": "code",
   "execution_count": null,
   "id": "3124754c",
   "metadata": {
    "ExecuteTime": {
     "end_time": "2022-06-02T10:43:40.766433Z",
     "start_time": "2022-06-02T10:43:40.749448Z"
    },
    "id": "3124754c"
   },
   "outputs": [],
   "source": [
    "print(type(train_data['code1']))\n",
    "print(type(train_data['code2']))\n",
    "print(train_data.head())"
   ]
  },
  {
   "cell_type": "code",
   "execution_count": null,
   "id": "975e0aff",
   "metadata": {
    "ExecuteTime": {
     "end_time": "2022-06-02T10:44:22.976445Z",
     "start_time": "2022-06-02T10:44:21.269037Z"
    },
    "id": "975e0aff"
   },
   "outputs": [],
   "source": [
    "test_data = pd.read_csv(\"./drive/MyDrive/code_similarity/data/open_code_test.csv\", index_col = 0, encoding = 'utf-8')"
   ]
  },
  {
   "cell_type": "code",
   "execution_count": null,
   "id": "e7e1c492",
   "metadata": {
    "ExecuteTime": {
     "end_time": "2022-06-02T10:44:35.507744Z",
     "start_time": "2022-06-02T10:44:35.484738Z"
    },
    "id": "e7e1c492"
   },
   "outputs": [],
   "source": [
    "#test_data = test_data.head()\n",
    "test_data"
   ]
  },
  {
   "cell_type": "code",
   "execution_count": null,
   "id": "f8f4b68b",
   "metadata": {
    "id": "f8f4b68b"
   },
   "outputs": [],
   "source": []
  },
  {
   "cell_type": "markdown",
   "id": "981cd12b",
   "metadata": {
    "id": "981cd12b"
   },
   "source": [
    "## 토큰화"
   ]
  },
  {
   "cell_type": "code",
   "execution_count": null,
   "id": "94b642dc",
   "metadata": {
    "ExecuteTime": {
     "end_time": "2022-06-02T10:45:01.386062Z",
     "start_time": "2022-06-02T10:45:01.371074Z"
    },
    "id": "94b642dc"
   },
   "outputs": [],
   "source": [
    "tokenizer = Tokenizer() # Tokenizer 객체 생성"
   ]
  },
  {
   "cell_type": "code",
   "execution_count": null,
   "id": "6ea8c380",
   "metadata": {
    "ExecuteTime": {
     "end_time": "2022-06-02T10:46:05.248769Z",
     "start_time": "2022-06-02T10:45:02.649995Z"
    },
    "id": "6ea8c380"
   },
   "outputs": [],
   "source": [
    "tokenizer.fit_on_texts(train_data['code1']) # 단어 인덱스 구축\n",
    "tokenizer.fit_on_texts(train_data['code2']) # 단어 인덱스 구축"
   ]
  },
  {
   "cell_type": "code",
   "execution_count": null,
   "id": "0656df16",
   "metadata": {
    "ExecuteTime": {
     "end_time": "2022-06-02T10:46:51.684340Z",
     "start_time": "2022-06-02T10:46:05.248769Z"
    },
    "id": "0656df16"
   },
   "outputs": [],
   "source": [
    "sequences_1 = tokenizer.texts_to_sequences(train_data['code1']) # 문자열을 정수 인덱스의 리스트로 변환한다. \n",
    "sequences_2 = tokenizer.texts_to_sequences(train_data['code2'])"
   ]
  },
  {
   "cell_type": "code",
   "execution_count": null,
   "id": "cc2c799c",
   "metadata": {
    "ExecuteTime": {
     "end_time": "2022-06-02T10:46:51.699942Z",
     "start_time": "2022-06-02T10:46:51.684340Z"
    },
    "id": "cc2c799c"
   },
   "outputs": [],
   "source": [
    "train_val = train_data['similar']\n",
    "train_val.head()"
   ]
  },
  {
   "cell_type": "code",
   "execution_count": null,
   "id": "ed12c3a2",
   "metadata": {
    "ExecuteTime": {
     "end_time": "2022-06-02T10:46:51.715566Z",
     "start_time": "2022-06-02T10:46:51.699942Z"
    },
    "id": "ed12c3a2"
   },
   "outputs": [],
   "source": [
    "vocab_size = len(tokenizer.word_index) + 1 # 패딩을 고려하여 +1\n",
    "print(vocab_size)"
   ]
  },
  {
   "cell_type": "code",
   "execution_count": null,
   "id": "8d5dd386",
   "metadata": {
    "ExecuteTime": {
     "end_time": "2022-06-02T10:46:52.177323Z",
     "start_time": "2022-06-02T10:46:51.715566Z"
    },
    "id": "8d5dd386"
   },
   "outputs": [],
   "source": [
    "#가장 긴 sequence의 길이\n",
    "MAX_SEQUENCE_LENGTH = max([len(seq) for seq in sequences_1 + sequences_2])\n",
    "ABR__SEQUENCE_LENGTH = round(sum(map(len, sequences_1))/len(sequences_1))\n",
    "print('코드의 최대 길이 : {}'.format(max([len(seq) for seq in sequences_1 + sequences_2])))\n",
    "print('코드의 평균길이 : {}'.format(sum(map(len, sequences_1))/len(sequences_1)))\n",
    "print('코드의 평균길이 : %d'% ABR__SEQUENCE_LENGTH)"
   ]
  },
  {
   "cell_type": "code",
   "execution_count": null,
   "id": "984236f8",
   "metadata": {
    "ExecuteTime": {
     "end_time": "2022-06-02T10:47:00.520474Z",
     "start_time": "2022-06-02T10:46:52.180298Z"
    },
    "id": "984236f8"
   },
   "outputs": [],
   "source": [
    "X_train_1 = pad_sequences(sequences_1, maxlen=MAX_SEQUENCE_LENGTH)\n",
    "X_train_2 = pad_sequences(sequences_2, maxlen=MAX_SEQUENCE_LENGTH)\n",
    "print(X_train_1.shape)\n",
    "print(X_train_2.shape)\n",
    "print(type(X_train_2))"
   ]
  },
  {
   "cell_type": "code",
   "execution_count": null,
   "id": "f3dbaec7-3df8-4016-896a-722950baed3a",
   "metadata": {
    "ExecuteTime": {
     "end_time": "2022-06-02T10:47:03.474613Z",
     "start_time": "2022-06-02T10:47:00.520474Z"
    },
    "id": "f3dbaec7-3df8-4016-896a-722950baed3a"
   },
   "outputs": [],
   "source": [
    "# Model variables\n",
    "batch_size = 512\n",
    "epoch = 150\n",
    "vocab_size = vocab_size\n",
    "MAX_SEQUENCE_LENGTH = MAX_SEQUENCE_LENGTH\n",
    "ABR__SEQUENCE_LENGTH = ABR__SEQUENCE_LENGTH\n",
    "vocab_size = vocab_size\n",
    "emb_output_dim = 64\n",
    "DROPOUT_RATIO = 0.25\n",
    "\n",
    "def exponent_neg_manhattan_distance(left, right):\n",
    "    ''' Helper function for the similarity estimate of the LSTMs outputs'''\n",
    "    return K.exp(-K.sum(K.abs(left-right), axis=1, keepdims=True))"
   ]
  },
  {
   "cell_type": "code",
   "execution_count": null,
   "id": "b13766f4-224e-48c0-aa73-4697cd385c2b",
   "metadata": {
    "ExecuteTime": {
     "end_time": "2022-06-02T10:47:03.474613Z",
     "start_time": "2022-06-02T10:47:00.520474Z"
    },
    "id": "b13766f4-224e-48c0-aa73-4697cd385c2b"
   },
   "outputs": [],
   "source": [
    "# The visible layer\n",
    "input_tensor1 = layers.Input(shape= (128,), dtype = 'int32', name = 'code1')\n",
    "input_tensor2 = layers.Input(shape= (128,), dtype = 'int32', name = 'code2')\n",
    "\n",
    "# Embedding layers\n",
    "embedding_layer = layers.Embedding(input_dim = vocab_size,\n",
    "                                   output_dim = emb_output_dim,\n",
    "                                   input_length = MAX_SEQUENCE_LENGTH,\n",
    "                                   mask_zero = True,\n",
    "                                   trainable = False)\n",
    "\n",
    "# Embedded of the inputs\n",
    "encoded_1 = embedding_layer(input_tensor1)\n",
    "encoded_2 = embedding_layer(input_tensor2)\n",
    "\n",
    "# define lstm for sentence encode\n",
    "encoded_LSTM1 = layers.LSTM(64, activation='tanh')(encoded_1)\n",
    "encoded_LSTM2 = layers.LSTM(64, activation='tanh')(encoded_2)\n",
    "\n",
    "#dropout layer\n",
    "drop1 = layers.Dropout(DROPOUT_RATIO)(encoded_LSTM1)\n",
    "drop2 = layers.Dropout(DROPOUT_RATIO)(encoded_LSTM2)\n",
    "\n",
    "#함수형 API 모델 을 구성할 때 임의 의 Lambda표현식을 사용할 수 있도록 레이어 생성\n",
    "main_malstm_distance = layers.Lambda(lambda x: exponent_neg_manhattan_distance(x[0], x[1]), output_shape=lambda x: (x[0][0], 1))([drop1,drop2])\n",
    "\n",
    "\n",
    "#model\n",
    "malstm = Model([input_tensor1, input_tensor2], outputs = main_malstm_distance)\n",
    "\n",
    "#model compile \n",
    "malstm.compile(loss='mean_squared_logarithmic_error', optimizer=RMSprop(learning_rate=0.001), metrics=['accuracy'])"
   ]
  },
  {
   "cell_type": "code",
   "execution_count": null,
   "id": "c742e411",
   "metadata": {
    "ExecuteTime": {
     "end_time": "2022-06-02T10:47:03.505802Z",
     "start_time": "2022-06-02T10:47:03.474613Z"
    },
    "id": "c742e411"
   },
   "outputs": [],
   "source": [
    "malstm.summary()"
   ]
  },
  {
   "cell_type": "code",
   "execution_count": null,
   "id": "457c7497",
   "metadata": {
    "ExecuteTime": {
     "end_time": "2022-06-02T10:47:03.521797Z",
     "start_time": "2022-06-02T10:47:03.508801Z"
    },
    "id": "457c7497"
   },
   "outputs": [],
   "source": [
    "# early_stop\n",
    "early_stopping = EarlyStopping(monitor=\"val_loss\",patience = 5, mode=\"min\")"
   ]
  },
  {
   "cell_type": "code",
   "execution_count": null,
   "id": "e19b3a24",
   "metadata": {
    "ExecuteTime": {
     "start_time": "2022-06-02T10:45:43.185Z"
    },
    "id": "e19b3a24",
    "tags": []
   },
   "outputs": [],
   "source": [
    "history = malstm.fit([X_train_1,X_train_2],\n",
    "                   train_val,\n",
    "                   verbose=1,\n",
    "                   callbacks=[early_stopping],\n",
    "                   validation_split=0.2,\n",
    "                   epochs=150 ,\n",
    "                   batch_size = batch_size)"
   ]
  },
  {
   "cell_type": "code",
   "execution_count": null,
   "id": "ced8be2a",
   "metadata": {
    "ExecuteTime": {
     "start_time": "2022-06-02T10:45:47.814Z"
    },
    "id": "ced8be2a"
   },
   "outputs": [],
   "source": [
    "#model save\n",
    "malstm.save('./drive/MyDrive/code_similarity/model_smilarity_MSLE_128_RE')"
   ]
  },
  {
   "cell_type": "code",
   "execution_count": null,
   "id": "0af49153",
   "metadata": {
    "id": "0af49153"
   },
   "outputs": [],
   "source": [
    "# Plot accuracy\n",
    "plt.plot(history.history['accuracy'])\n",
    "plt.plot(history.history['val_accuracy'])\n",
    "plt.title('Model Accuracy')\n",
    "plt.ylabel('Accuracy')\n",
    "plt.xlabel('Epoch')\n",
    "plt.legend(['Train', 'Validation'], loc='upper left')\n",
    "plt.show()"
   ]
  },
  {
   "cell_type": "code",
   "execution_count": null,
   "id": "dc4930e5",
   "metadata": {
    "id": "dc4930e5"
   },
   "outputs": [],
   "source": [
    "# Plot loss\n",
    "plt.plot(history.history['loss'])\n",
    "plt.plot(history.history['val_loss'])\n",
    "plt.title('Model Loss')\n",
    "plt.ylabel('Loss')\n",
    "plt.xlabel('Epoch')\n",
    "plt.legend(['Train', 'Validation'], loc='upper right')\n",
    "plt.show()"
   ]
  },
  {
   "cell_type": "code",
   "execution_count": null,
   "id": "21447f22",
   "metadata": {
    "id": "21447f22"
   },
   "outputs": [],
   "source": [
    "#test data 정수\n",
    "tokenizer.fit_on_texts(test_data['code1']) # 단어 인덱스 구축\n",
    "tokenizer.fit_on_texts(test_data['code2']) # 단어 인덱스 구축\n",
    "\n",
    "test_sequences_1 = tokenizer.texts_to_sequences(test_data['code1']) # 문자열을 정수 인덱스의 리스트로 변환한다. \n",
    "test_sequences_2 = tokenizer.texts_to_sequences(test_data['code2'])\n",
    "\n",
    "X_test_1 = pad_sequences(test_sequences_1, maxlen=128)\n",
    "X_test_2 = pad_sequences(test_sequences_2, maxlen=128)\n",
    "\n",
    "print(X_test_1.shape)\n",
    "print(X_test_2.shape)\n",
    "print(type(X_test_1))"
   ]
  },
  {
   "cell_type": "code",
   "execution_count": null,
   "id": "1bbfa2ba",
   "metadata": {
    "id": "1bbfa2ba"
   },
   "outputs": [],
   "source": [
    "model = load_model('./drive/MyDrive/code_similarity/model_smilarity_MSLE_128')"
   ]
  },
  {
   "cell_type": "code",
   "execution_count": null,
   "id": "8c624afd",
   "metadata": {
    "id": "8c624afd"
   },
   "outputs": [],
   "source": [
    "# 모델 추론\n",
    "preds = model.predict([X_test_1, X_test_2])"
   ]
  },
  {
   "cell_type": "code",
   "execution_count": null,
   "id": "db16820b",
   "metadata": {
    "id": "db16820b"
   },
   "outputs": [],
   "source": [
    "#preds 값 확인\n",
    "preds[:10]"
   ]
  },
  {
   "cell_type": "code",
   "execution_count": null,
   "id": "04a46027-acd4-4ebf-b2c9-3e4f826c4025",
   "metadata": {
    "id": "04a46027-acd4-4ebf-b2c9-3e4f826c4025"
   },
   "outputs": [],
   "source": [
    "threshold = 0.5\n",
    "preds = np.where(preds >threshold, 1, 0)\n"
   ]
  },
  {
   "cell_type": "code",
   "execution_count": null,
   "id": "e31a05d3-1555-48a7-8c33-2c9ebd092904",
   "metadata": {
    "id": "e31a05d3-1555-48a7-8c33-2c9ebd092904",
    "tags": []
   },
   "outputs": [],
   "source": [
    "# submission 저장\n",
    "submission = pd.read_csv('./drive/MyDrive/code_similarity/data/submission.csv')\n",
    "submission['similar'] = preds\n",
    "print(submission['similar'].value_counts())\n",
    "submission.to_csv('./drive/MyDrive/code_similarity/data/submission.csv', index=False)"
   ]
  },
  {
   "cell_type": "code",
   "execution_count": null,
   "id": "8f0bb3ac-51f3-4b6c-802a-6710281f4360",
   "metadata": {
    "id": "8f0bb3ac-51f3-4b6c-802a-6710281f4360"
   },
   "outputs": [],
   "source": []
  }
 ],
 "metadata": {
  "accelerator": "GPU",
  "colab": {
   "collapsed_sections": [],
   "name": "코드 유사성 분석 통합 코드.ipynb",
   "private_outputs": true,
   "provenance": []
  },
  "kernelspec": {
   "display_name": "Python 3 (ipykernel)",
   "language": "python",
   "name": "python3"
  },
  "language_info": {
   "codemirror_mode": {
    "name": "ipython",
    "version": 3
   },
   "file_extension": ".py",
   "mimetype": "text/x-python",
   "name": "python",
   "nbconvert_exporter": "python",
   "pygments_lexer": "ipython3",
   "version": "3.8.13"
  },
  "toc": {
   "base_numbering": 1,
   "nav_menu": {},
   "number_sections": true,
   "sideBar": true,
   "skip_h1_title": false,
   "title_cell": "Table of Contents",
   "title_sidebar": "Contents",
   "toc_cell": false,
   "toc_position": {},
   "toc_section_display": true,
   "toc_window_display": false
  }
 },
 "nbformat": 4,
 "nbformat_minor": 5
}
