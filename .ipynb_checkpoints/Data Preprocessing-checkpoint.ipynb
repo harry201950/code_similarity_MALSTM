{
 "cells": [
  {
   "cell_type": "markdown",
   "id": "0291cd5b",
   "metadata": {
    "id": "0291cd5b"
   },
   "source": [
    "# Code similarity AI"
   ]
  },
  {
   "cell_type": "code",
   "execution_count": null,
   "id": "Gv7KU-TLhyaa",
   "metadata": {
    "id": "Gv7KU-TLhyaa"
   },
   "outputs": [],
   "source": [
    "from google.colab import drive\n",
    "drive.mount('/content/drive')"
   ]
  },
  {
   "cell_type": "markdown",
   "id": "b2b2de99",
   "metadata": {
    "id": "b2b2de99"
   },
   "source": [
    "# open/code 전처리"
   ]
  },
  {
   "cell_type": "code",
   "execution_count": null,
   "id": "44c73693",
   "metadata": {
    "ExecuteTime": {
     "end_time": "2022-06-02T10:21:15.234243Z",
     "start_time": "2022-06-02T10:21:14.246548Z"
    },
    "id": "44c73693"
   },
   "outputs": [],
   "source": [
    "import os              # 운영체제 os\n",
    "import pandas as pd    # Pandas\n",
    "import numpy as np     # numpy \n",
    "import glob            # 파일을 읽어서 반환 glob \n",
    "from tqdm import tqdm  # 코드 진행 상황 확인\n",
    "from tensorflow.keras.preprocessing.sequence import pad_sequences\n",
    "from tensorflow.keras.preprocessing.text import Tokenizer\n",
    "\n",
    "CODE_FOLDER = \"./open/code/\""
   ]
  },
  {
   "cell_type": "code",
   "execution_count": null,
   "id": "387d36e2",
   "metadata": {
    "ExecuteTime": {
     "end_time": "2022-06-02T10:21:36.315330Z",
     "start_time": "2022-06-02T10:21:36.264342Z"
    },
    "id": "387d36e2"
   },
   "outputs": [],
   "source": [
    "# open/code에 있는 모들 .py 파일을 읽어 데이터프레임으로 반환\n",
    "def make_df(path_name) :\n",
    "    problem_folders = os.listdir(path_name)                                 # 해당 경로의 모든 파일을 읽어 리스트로 반환\n",
    "    code_list = []                                                          # .py 파일이 저장될 code_list\n",
    "    problem_num = []                                                        # .py 파일의 problem 번호를 저장할 problem_num\n",
    "    problem_py_num = []\n",
    "    except_file = []                                                        # 문자열로 바뀐 .py 파일의 길이가 너무 길면 제외, 어떤 파일을 제외했는지 저장할 except_file\n",
    "    \n",
    "    for problem_folder in tqdm(problem_folders) :                \n",
    "        for py_file in glob.glob( path_name + problem_folder + \"/*.py\") :   # glob.glob 을 통해 .py 확장자가 붙은 파일만을 읽어옴.\n",
    "            py_code = []                                                    # 하나의 .py 파일의 내용을 담을 py_code, 파일을 새로 열때마다 초기화. \n",
    "            long_annotation = 0                                             # 긴줄 주석 여부를 확인하는 long_annotation\n",
    "            long_str = 0\n",
    "                        \n",
    "            with open(py_file, 'r', encoding='utf-8') as file :\n",
    "                lines = file.readlines()                                    # readlines() 를 통해 파일의 모든 내용을 문자열로 반환\n",
    "                \n",
    "                for line in lines :                                         # 그 중 리스트 요소 하나에 해당하는 라인 한줄에 대해서 진행\n",
    "                    line = line.rstrip().lstrip()                           #  문자열 앞 뒤로 공백 제거\n",
    "                    \n",
    "                    # 만약 한 줄 주석으로 시작하면 새로 반복\n",
    "                    if line.startswith('#') :\n",
    "                        continue\n",
    "                    elif line.count('\"\"\"') == 0 and line.startswith('\\\"') and line[1:].endswith('\\\"') : # \"문자열\"\n",
    "                        continue  \n",
    "                    elif line.count(\"'''\") == 0 and line.startswith(\"\\'\") and line[1:].endswith(\"\\'\") :  # '문자열'\n",
    "                        continue\n",
    "                    \n",
    "                    # \"\"\"를 찾았을 때\n",
    "                    if line.count('\"\"\"') >= 1 : \n",
    "                        if line.count('\"\"\"') % 2 == 0 and line.startswith('\"\"\"') and line[3:].endswith('\"\"\"') :\n",
    "                            continue\n",
    "                        elif line.count(\"'''\") % 2 == 0 and line.startswith(\"'''\") and line[3:].endswith(\"'''\") :\n",
    "                            continue  \n",
    "    \n",
    "                    if line.count('\"\"\"') % 2 != 0 and long_annotation == 0 and long_str == 0 : \n",
    "                        if line.startswith('\"\"\"') :         \n",
    "                            long_annotation = 1                          \n",
    "                            continue\n",
    "                        else : \n",
    "                            long_str = 1\n",
    "                    elif line.count('\"\"\"') % 2 != 0 and long_annotation == 1 and long_str == 0 :\n",
    "                        long_annotation = 0\n",
    "                        continue    \n",
    "                    elif line.count('\"\"\"') % 2 != 0 and long_annotation == 0 and long_str == 1 :\n",
    "                        long_str = 0\n",
    "                    \n",
    "                    # '''를 찾았을 때\n",
    "                    if line.count(\"'''\") >= 1 : \n",
    "                        if line.count('\"\"\"') % 2 == 0 and line.startswith('\"\"\"') and line[3:].endswith('\"\"\"') :\n",
    "                            continue\n",
    "                        elif line.count(\"'''\") % 2 == 0 and line.startswith(\"'''\") and line[3:].endswith(\"'''\") :\n",
    "                            continue  \n",
    "    \n",
    "                    if line.count(\"'''\") % 2 != 0 and long_annotation == 0 and long_str == 0 : \n",
    "                        if line.startswith(\"'''\") :         \n",
    "                            long_annotation = 1                          \n",
    "                            continue\n",
    "                        else : \n",
    "                            long_str = 1\n",
    "                    elif line.count(\"'''\") % 2 != 0 and long_annotation == 1 and long_str == 0 :\n",
    "                        long_annotation = 0\n",
    "                        continue    \n",
    "                    elif line.count(\"'''\") % 2 != 0 and long_annotation == 0 and long_str == 1 :\n",
    "                        long_str = 0\n",
    "                    \n",
    "                    \n",
    "                    if long_annotation == 1 :                              # 위에 조건문을 통해서 긴 줄 주석이 없는데 long_annotation이 1이면 \n",
    "                        continue                                           # 다음 라인 탐색\n",
    "                    \n",
    "                    if '#' in line :                                        # 문자열 내에 '#'이 있을 경우\n",
    "                        if line[:line.index('#')].count('\\'') % 2 == 0 and line[line.index('#'):].count('\\'') % 2 == 0 :\n",
    "                            line = line[:line.index('#')]                   # '#'을 기준으로 앞,뒤 각각에서 문자열사용이 끝났을 경우 \n",
    "                                                                            # '#'은 코드 뒤에서 선언된 한줄 주석이므로 '#' 전까지만 사용\n",
    "                        elif line[:line.index('#')].count('\\\"') % 2 == 0 and line[line.index('#'):].count('\\\"') % 2 == 0 :\n",
    "                            line = line[:line.index('#')]                   # 아래는 큰 따옴표에 대해서도 똑같이 조건문 진행.\n",
    "                        \n",
    "                    line = line.replace('\\n','')                            # 조건문들을 지나왔으면 줄바꿈 이스케이프 문자는 공백으로\n",
    "                    line = line.replace('    ','\\t')                        # 4칸 공백은 수평탭 이스케이프 문자로 변환\n",
    "                                                                            # 이때 2칸 공백에 대해 사용하지 않은 것은 4칸과는 달리 코드 곳곳 어디에서나 사용될 수 있기 때문이다.\n",
    "                    if line == '':                                          # 치환 후 해당 라인이 공백이면\n",
    "                        continue                                            # 다음 라인 탐색\n",
    "                        \n",
    "                    py_code.append(line)                                    # 위의 조건문들에 해당하지 않으면 py_code에 추가.\n",
    "            \n",
    "            temp_str = '\\n'.join(py_code)                                   # 파일 하나에 대해서 전처리가 끝났으면 줄바꿈 이스케이프 문자로 join연산을 통해 문자열로 반환.\n",
    "            if temp_str == '' :                                             # 전처리 후의 파일 하나가 공백이라면 \n",
    "                continue                                                    # 다음 파일을 탐색\n",
    "            elif len(temp_str) >= 6000 :                                   # 엑셀의 셀 하나의 최대 글자는  32,767이지만 그냥 6,000으로 했다.\n",
    "                except_file.append(py_file)                                 # 아무튼 코드 파일 하나가 너무 길면 except_file에 추가하고 다음 파일을 탐색\n",
    "                continue\n",
    "            else :\n",
    "                code_list.append(temp_str)                                  # 그 외는 code_list에 파일 하나를 뜻하는 문자열 추가\n",
    "                problem_num.append(int(problem_folder[7:]))                 # 그 파일이 어떤 problem 폴더에 있는지 나타내는 problem_num에도 추가한다.\n",
    "                problem_py_num.append(py_file[12:])\n",
    "            \n",
    "    print(except_file)                                                      # 3중 for문을 통해 모든 파일을 탐색하고 나서 제외된 파일 출력.\n",
    "   \n",
    "    df = pd.DataFrame({'code' : code_list, 'problem_num' : problem_num, 'py_file' : problem_py_num})     # 코드 내용을 나타내는 code_list와 그 코드가 갖는 결과를 나타내는 problem_num을 데이터 프레임 생성\n",
    "    df.drop_duplicates(['code'], inplace = True, ignore_index = True)                             # 한 코드가 다른 하나의 완전히 똑같은 코드가 30개 있다. 중복 제\n",
    "    return df"
   ]
  },
  {
   "cell_type": "code",
   "execution_count": null,
   "id": "a49efb07",
   "metadata": {
    "ExecuteTime": {
     "end_time": "2022-06-02T10:29:36.052977Z",
     "start_time": "2022-06-02T10:24:47.625983Z"
    },
    "id": "a49efb07"
   },
   "outputs": [],
   "source": [
    "dataset = make_df(CODE_FOLDER)"
   ]
  },
  {
   "cell_type": "markdown",
   "id": "2fcb7ecb",
   "metadata": {
    "id": "2fcb7ecb"
   },
   "source": [
    "```\n",
    "problem037\\problem037_63.py    4,603   - 답도 없는 이상한 문자열 있음\n",
    "problem073\\problem073_40.py      1,069    - 변수 중 숫자를 쓰는게 있는데 10만,100만 단위임\n",
    "problem074\\problem074_7.py      1,400    - 테스트 한답시고 (1) 변수 사용 \n",
    "problem085\\problem085_101.py      1,912    - 테스트 한답시고 (1) 변수 사용 \n",
    "problem093\\problem093_64.py    1,786    - 테스트 한답시고 (1) 변수 사용 \n",
    "problem093\\problem093_67.py    3,152    - 테스트 한답시고 (1) 변수 사용 \n",
    "problem095\\problem095_50.py    1,192    - 답도 없는 이상한 문자열 있음\n",
    "problem174\\problem174_31.py    1,723    - 변수 중 숫자를 쓰는게 있는데 10만,100만 단위임\n",
    "problem174\\problem174_81.py    1,467    - 변수 중 숫자를 쓰는게 있는데 10만,100만 단위임\n",
    "\n",
    "\n",
    "(1) 이런 변수가 5~ 8 개 있음.\n",
    "T1 = \"\"\"\n",
    "3\n",
    "3 4 5\n",
    "\"\"\"\n",
    "TEST_T1 = \"\"\"\n",
    ">>> as_input(T1)\n",
    ">>> main()\n",
    "pairwise coprime\n",
    "\"\"\"\n",
    "\n",
    "```"
   ]
  },
  {
   "cell_type": "code",
   "execution_count": null,
   "id": "e5fd1444",
   "metadata": {
    "ExecuteTime": {
     "end_time": "2022-06-02T10:29:36.068946Z",
     "start_time": "2022-06-02T10:29:36.056955Z"
    },
    "id": "e5fd1444"
   },
   "outputs": [],
   "source": [
    "temp_index = []\n",
    "li = ['problem037\\problem037_63.py',\n",
    "      'problem073\\problem073_40.py',\n",
    "      'problem074\\problem074_7.py',\n",
    "      'problem085\\problem085_101.py',\n",
    "      'problem093\\problem093_64.py',\n",
    "      'problem093\\problem093_67.py',\n",
    "      'problem095\\problem095_50.py',\n",
    "      'problem174\\problem174_31.py',\n",
    "      'problem174\\problem174_81.py']"
   ]
  },
  {
   "cell_type": "code",
   "execution_count": null,
   "id": "de59d071",
   "metadata": {
    "ExecuteTime": {
     "end_time": "2022-06-02T10:29:36.163907Z",
     "start_time": "2022-06-02T10:29:36.071945Z"
    },
    "id": "de59d071"
   },
   "outputs": [],
   "source": [
    "for i in li :\n",
    "    temp_index.append(dataset[dataset['py_file'] == i].index[0])\n",
    "    \n",
    "temp_index"
   ]
  },
  {
   "cell_type": "code",
   "execution_count": null,
   "id": "ad7d0b2e",
   "metadata": {
    "ExecuteTime": {
     "end_time": "2022-06-02T10:29:36.195872Z",
     "start_time": "2022-06-02T10:29:36.167889Z"
    },
    "id": "ad7d0b2e"
   },
   "outputs": [],
   "source": [
    "dataset.drop(index = temp_index, inplace = True)\n",
    "dataset = pd.concat([dataset] , ignore_index = True)"
   ]
  },
  {
   "cell_type": "code",
   "execution_count": null,
   "id": "c1f27aa8",
   "metadata": {
    "ExecuteTime": {
     "end_time": "2022-06-02T10:29:41.160716Z",
     "start_time": "2022-06-02T10:29:41.114307Z"
    },
    "id": "c1f27aa8"
   },
   "outputs": [],
   "source": [
    "dataset"
   ]
  },
  {
   "cell_type": "code",
   "execution_count": null,
   "id": "2e9d6f3f",
   "metadata": {
    "ExecuteTime": {
     "end_time": "2022-06-02T10:29:36.210868Z",
     "start_time": "2022-06-02T10:29:36.198871Z"
    },
    "id": "2e9d6f3f"
   },
   "outputs": [],
   "source": [
    "tokenizer = Tokenizer()"
   ]
  },
  {
   "cell_type": "code",
   "execution_count": null,
   "id": "e60d1b6f",
   "metadata": {
    "ExecuteTime": {
     "end_time": "2022-06-02T10:29:38.988570Z",
     "start_time": "2022-06-02T10:29:36.214878Z"
    },
    "id": "e60d1b6f"
   },
   "outputs": [],
   "source": [
    "tokenizer.fit_on_texts(dataset['code'])"
   ]
  },
  {
   "cell_type": "code",
   "execution_count": null,
   "id": "66bf1473",
   "metadata": {
    "ExecuteTime": {
     "end_time": "2022-06-02T10:29:41.114307Z",
     "start_time": "2022-06-02T10:29:38.988570Z"
    },
    "id": "66bf1473"
   },
   "outputs": [],
   "source": [
    "sequence = tokenizer.texts_to_sequences(dataset['code'])"
   ]
  },
  {
   "cell_type": "code",
   "execution_count": null,
   "id": "30620b49",
   "metadata": {
    "ExecuteTime": {
     "end_time": "2022-06-02T10:30:44.936532Z",
     "start_time": "2022-06-02T10:30:44.914548Z"
    },
    "id": "30620b49"
   },
   "outputs": [],
   "source": []
  },
  {
   "cell_type": "code",
   "execution_count": null,
   "id": "89429af4",
   "metadata": {
    "ExecuteTime": {
     "end_time": "2022-06-02T10:31:59.746699Z",
     "start_time": "2022-06-02T10:31:59.704699Z"
    },
    "id": "89429af4"
   },
   "outputs": [],
   "source": [
    "ds_list = []\n",
    "\n",
    "for i in range(len(sequence)) :\n",
    "    if len(sequence[i]) > 128 :\n",
    "        ds_list.append(i)\n",
    "        \n",
    "    "
   ]
  },
  {
   "cell_type": "code",
   "execution_count": null,
   "id": "26041776",
   "metadata": {
    "ExecuteTime": {
     "end_time": "2022-06-02T10:32:08.016104Z",
     "start_time": "2022-06-02T10:32:08.005092Z"
    },
    "id": "26041776"
   },
   "outputs": [],
   "source": [
    "len(ds_list)"
   ]
  },
  {
   "cell_type": "code",
   "execution_count": null,
   "id": "e4cc54dd",
   "metadata": {
    "ExecuteTime": {
     "end_time": "2022-06-02T10:32:56.905066Z",
     "start_time": "2022-06-02T10:32:56.873089Z"
    },
    "id": "e4cc54dd"
   },
   "outputs": [],
   "source": [
    "dataset.drop(index = ds_list, inplace = True)\n",
    "dataset = pd.concat([dataset], ignore_index = True)"
   ]
  },
  {
   "cell_type": "code",
   "execution_count": null,
   "id": "2e7c8c95",
   "metadata": {
    "ExecuteTime": {
     "end_time": "2022-06-02T10:32:59.190582Z",
     "start_time": "2022-06-02T10:32:59.175589Z"
    },
    "id": "2e7c8c95"
   },
   "outputs": [],
   "source": [
    "dataset"
   ]
  },
  {
   "cell_type": "code",
   "execution_count": null,
   "id": "068bf989",
   "metadata": {
    "ExecuteTime": {
     "end_time": "2022-06-02T10:34:09.285280Z",
     "start_time": "2022-06-02T10:34:08.847171Z"
    },
    "id": "068bf989"
   },
   "outputs": [],
   "source": [
    "dataset.to_csv('./open_code_종합.csv')"
   ]
  },
  {
   "cell_type": "code",
   "execution_count": null,
   "id": "f7aad0d7-8d7e-4c0f-a1e7-a19a0a25865e",
   "metadata": {},
   "outputs": [],
   "source": []
  },
  {
   "cell_type": "markdown",
   "id": "f11b8001-4d02-46b6-afc6-5441856111be",
   "metadata": {
    "id": "97ffbe96",
    "tags": []
   },
   "source": [
    "# train 데이터 생성"
   ]
  },
  {
   "cell_type": "code",
   "execution_count": null,
   "id": "6ee76333-60c3-4073-a6f1-d0feb92ead17",
   "metadata": {
    "ExecuteTime": {
     "end_time": "2022-06-02T10:35:11.000823Z",
     "start_time": "2022-06-02T10:35:10.677688Z"
    },
    "id": "25ac5348"
   },
   "outputs": [],
   "source": [
    "dataset = pd.read_csv('./open_code_종합.csv', index_col=0)"
   ]
  },
  {
   "cell_type": "code",
   "execution_count": null,
   "id": "407b9983-6a35-4415-8b98-382099128cdc",
   "metadata": {
    "ExecuteTime": {
     "end_time": "2022-06-02T10:35:37.208433Z",
     "start_time": "2022-06-02T10:35:37.186445Z"
    },
    "id": "b894eb21"
   },
   "outputs": [],
   "source": [
    "train_df = pd.DataFrame(columns = ['code1', 'c1_problem_name', 'code2', 'c2_problem_name', 'similar'])  # 트레인 데이터를 가리키는 빈 데이터 프레임 생성.\n",
    "train_df"
   ]
  },
  {
   "cell_type": "code",
   "execution_count": null,
   "id": "b8e03a38-4e2f-41ae-84f3-b129535312c1",
   "metadata": {
    "ExecuteTime": {
     "end_time": "2022-06-02T10:35:51.989333Z",
     "start_time": "2022-06-02T10:35:51.966347Z"
    },
    "id": "9758f088"
   },
   "outputs": [],
   "source": [
    "def make_train_df(dataset_len, df = dataset) :                              # 트레인 데이터를 만드는 make_train_df 함수. 반복작업으로 하는게 좋지만 귀찮아서 만든 조잡한 사용자 정의 함수이다.\n",
    "    result = pd.DataFrame()                                                 # 반환할 데이터 프레임\n",
    "    cnt = 0                                                                 # 반환할 데이터 프레임의 길이.\n",
    "    \n",
    "    while cnt < dataset_len :                                               # 중첩 반복문\n",
    "        df_list = []                                                        # 안쪽의 for문으로 얻은 데이터 프레임을 저장할 df_list\n",
    "        for j in range(10000) :                                             # 10,000번 반복\n",
    "            temp_df = train_df.copy()                                       # train_df의 구조를 복사\n",
    "            sim_num = 0                                                     # 코드 유사성 변수 sim_num\n",
    "            \n",
    "            #r = np.random.randint(1, 301, size = 2)                         # problem 300개 중에 2개 뽑기\n",
    "            \n",
    "            while True :\n",
    "                r = np.random.randint(1, 301, size = 2)                     \n",
    "                \n",
    "                if r[0] != 209 and r[1] != 209 :\n",
    "                    break\n",
    "            \n",
    "            if r[0] == r[1] :                                               # 만약 뽑은 2개가 같으면 유사성 True\n",
    "                sim_num = 1\n",
    "                \n",
    "            if sim_num == 0 and cnt >= dataset_len / 2 :                    # 뽑은 코드 유사성이 False고, 현재 만든 데이터가 전체의 절반이 넘으면 반복\n",
    "                continue                                                    # 이유는 True 데이터가 그만큼 안만들어진다. 대략 10,000개 만들면 40~50개.\n",
    "            \n",
    "            c1 = np.random.choice(df[df['problem_num'] == r[0]]['code'])    # 각자 해당하면 problem 폴더의 랜덤 코드를 뽑는다.\n",
    "            c2 = np.random.choice(df[df['problem_num'] == r[1]]['code']) \n",
    "            \n",
    "            temp_df.loc[0] = c1, r[0], c2, r[1], sim_num                    # 위에서 복사한 형식대로 temp_df를 얻고\n",
    "            \n",
    "            df_list.append(temp_df)                                         # df_list에 temp_df 추가\n",
    "            \n",
    "        cnt += len(df_list)                                                 # cnt에 df_list의 길이 만큼 증가\n",
    "        print(cnt ,end = ' ')                                               # tqdm보다 이게 보기 편할 거 같아서 print(cnt)\n",
    "        res = pd.concat(df_list , axis = 0)                                 # df_list를 데이터프레임으로 만들고\n",
    "        result = pd.concat([result, res], ignore_index = True)              # 최종 반환할 데이터 프레임과 병합\n",
    "        \n",
    "    result = result.sample(frac=1, ignore_index=True)[:dataset_len]         # 반환할 데이터 프레임을 랜덤으로 섞고 반환\n",
    "            \n",
    "    return result"
   ]
  },
  {
   "cell_type": "code",
   "execution_count": null,
   "id": "7acd9c47-9e91-4ca1-a302-26ae2a1d3855",
   "metadata": {
    "ExecuteTime": {
     "end_time": "2022-06-02T10:38:22.604448Z",
     "start_time": "2022-06-02T10:38:22.585466Z"
    },
    "id": "cff99090"
   },
   "outputs": [],
   "source": [
    "train_len = 500000                   # 트레인 길이 조절 \n",
    "\n",
    "train = make_train_df(train_len)"
   ]
  },
  {
   "cell_type": "code",
   "execution_count": null,
   "id": "52c06d31-25a3-44a3-8054-1fc2b6b61228",
   "metadata": {
    "ExecuteTime": {
     "end_time": "2022-06-02T10:38:16.924246Z",
     "start_time": "2022-06-02T10:38:16.924246Z"
    },
    "id": "c9ba75d5"
   },
   "outputs": [],
   "source": [
    "train['similar'].value_counts()"
   ]
  },
  {
   "cell_type": "code",
   "execution_count": null,
   "id": "1f8e0b7e-632a-4755-85c7-81cf7671bc66",
   "metadata": {
    "ExecuteTime": {
     "end_time": "2022-06-02T10:38:16.927245Z",
     "start_time": "2022-06-02T10:38:16.927245Z"
    },
    "id": "b16df359"
   },
   "outputs": [],
   "source": [
    "train.to_csv('./open_code_train.csv')"
   ]
  },
  {
   "cell_type": "code",
   "execution_count": null,
   "id": "79deb073-14d3-4e81-a877-9c2bdd4811dd",
   "metadata": {
    "ExecuteTime": {
     "end_time": "2022-06-02T10:38:16.930240Z",
     "start_time": "2022-06-02T10:38:16.930240Z"
    },
    "id": "fef8fb02"
   },
   "outputs": [],
   "source": [
    "train"
   ]
  },
  {
   "cell_type": "code",
   "execution_count": null,
   "id": "ef8e38f9-f7d5-41eb-9248-8c8871d48f72",
   "metadata": {
    "id": "ce4525d0"
   },
   "outputs": [],
   "source": []
  }
 ],
 "metadata": {
  "accelerator": "GPU",
  "colab": {
   "collapsed_sections": [],
   "name": "코드 유사성 분석 통합 코드.ipynb",
   "private_outputs": true,
   "provenance": []
  },
  "kernelspec": {
   "display_name": "Python 3 (ipykernel)",
   "language": "python",
   "name": "python3"
  },
  "language_info": {
   "codemirror_mode": {
    "name": "ipython",
    "version": 3
   },
   "file_extension": ".py",
   "mimetype": "text/x-python",
   "name": "python",
   "nbconvert_exporter": "python",
   "pygments_lexer": "ipython3",
   "version": "3.8.13"
  },
  "toc": {
   "base_numbering": 1,
   "nav_menu": {},
   "number_sections": true,
   "sideBar": true,
   "skip_h1_title": false,
   "title_cell": "Table of Contents",
   "title_sidebar": "Contents",
   "toc_cell": false,
   "toc_position": {},
   "toc_section_display": true,
   "toc_window_display": false
  }
 },
 "nbformat": 4,
 "nbformat_minor": 5
}
